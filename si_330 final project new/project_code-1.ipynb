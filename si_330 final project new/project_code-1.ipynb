{
 "cells": [
  {
   "cell_type": "code",
   "execution_count": 2,
   "metadata": {},
   "outputs": [],
   "source": [
    "import pandas as pd\n",
    "import numpy as np\n",
    "import seaborn as sns\n",
    "import matplotlib.pyplot as plt"
   ]
  },
  {
   "cell_type": "code",
   "execution_count": 3,
   "metadata": {},
   "outputs": [],
   "source": [
    "raw_player = pd.read_csv(\"data/player_overviews.csv\") #Player overview dataset"
   ]
  },
  {
   "cell_type": "code",
   "execution_count": 4,
   "metadata": {},
   "outputs": [],
   "source": [
    "raw_player = raw_player.loc[:, [\"player_id\", \"first_name\", \"last_name\", \"flag_code\", \"height_cm\"]]"
   ]
  },
  {
   "cell_type": "code",
   "execution_count": 6,
   "metadata": {
    "collapsed": true,
    "jupyter": {
     "outputs_hidden": true
    }
   },
   "outputs": [
    {
     "data": {
      "text/html": [
       "<div>\n",
       "<style scoped>\n",
       "    .dataframe tbody tr th:only-of-type {\n",
       "        vertical-align: middle;\n",
       "    }\n",
       "\n",
       "    .dataframe tbody tr th {\n",
       "        vertical-align: top;\n",
       "    }\n",
       "\n",
       "    .dataframe thead th {\n",
       "        text-align: right;\n",
       "    }\n",
       "</style>\n",
       "<table border=\"1\" class=\"dataframe\">\n",
       "  <thead>\n",
       "    <tr style=\"text-align: right;\">\n",
       "      <th></th>\n",
       "      <th>player_id</th>\n",
       "      <th>first_name</th>\n",
       "      <th>last_name</th>\n",
       "      <th>flag_code</th>\n",
       "      <th>height_cm</th>\n",
       "    </tr>\n",
       "  </thead>\n",
       "  <tbody>\n",
       "    <tr>\n",
       "      <th>0</th>\n",
       "      <td>a002</td>\n",
       "      <td>Ricardo</td>\n",
       "      <td>Acuna</td>\n",
       "      <td>CHI</td>\n",
       "      <td>175.0</td>\n",
       "    </tr>\n",
       "    <tr>\n",
       "      <th>1</th>\n",
       "      <td>a001</td>\n",
       "      <td>Sadiq</td>\n",
       "      <td>Abdullahi</td>\n",
       "      <td>NGR</td>\n",
       "      <td>0.0</td>\n",
       "    </tr>\n",
       "    <tr>\n",
       "      <th>2</th>\n",
       "      <td>a005</td>\n",
       "      <td>Nelson</td>\n",
       "      <td>Aerts</td>\n",
       "      <td>BRA</td>\n",
       "      <td>188.0</td>\n",
       "    </tr>\n",
       "    <tr>\n",
       "      <th>3</th>\n",
       "      <td>a004</td>\n",
       "      <td>Egan</td>\n",
       "      <td>Adams</td>\n",
       "      <td>USA</td>\n",
       "      <td>178.0</td>\n",
       "    </tr>\n",
       "    <tr>\n",
       "      <th>4</th>\n",
       "      <td>a006</td>\n",
       "      <td>Ronald</td>\n",
       "      <td>Agenor</td>\n",
       "      <td>USA</td>\n",
       "      <td>180.0</td>\n",
       "    </tr>\n",
       "  </tbody>\n",
       "</table>\n",
       "</div>"
      ],
      "text/plain": [
       "  player_id first_name  last_name flag_code  height_cm\n",
       "0      a002    Ricardo      Acuna       CHI      175.0\n",
       "1      a001      Sadiq  Abdullahi       NGR        0.0\n",
       "2      a005     Nelson      Aerts       BRA      188.0\n",
       "3      a004       Egan      Adams       USA      178.0\n",
       "4      a006     Ronald     Agenor       USA      180.0"
      ]
     },
     "execution_count": 6,
     "metadata": {},
     "output_type": "execute_result"
    }
   ],
   "source": [
    "raw_player.head()"
   ]
  },
  {
   "cell_type": "code",
   "execution_count": 7,
   "metadata": {},
   "outputs": [
    {
     "name": "stderr",
     "output_type": "stream",
     "text": [
      "//anaconda3/lib/python3.7/site-packages/IPython/core/interactiveshell.py:3057: DtypeWarning: Columns (4) have mixed types. Specify dtype option on import or set low_memory=False.\n",
      "  interactivity=interactivity, compiler=compiler, result=result)\n"
     ]
    }
   ],
   "source": [
    "raw_rankings = pd.read_csv(\"data/rankings.csv\") #Players rankings dataset"
   ]
  },
  {
   "cell_type": "code",
   "execution_count": 9,
   "metadata": {},
   "outputs": [],
   "source": [
    "raw_rankings = raw_rankings.loc[:, [\"rank_number\", \"player_age\", \"ranking_points\", \"player_id\", \"week_year\", \"week_month\"]]"
   ]
  },
  {
   "cell_type": "code",
   "execution_count": 10,
   "metadata": {},
   "outputs": [],
   "source": [
    "raw_rankings = raw_rankings.rename(columns = {\"week_year\": \"year\", \"week_month\": \"month\"})"
   ]
  },
  {
   "cell_type": "code",
   "execution_count": 12,
   "metadata": {
    "collapsed": true,
    "jupyter": {
     "outputs_hidden": true
    }
   },
   "outputs": [
    {
     "data": {
      "text/html": [
       "<div>\n",
       "<style scoped>\n",
       "    .dataframe tbody tr th:only-of-type {\n",
       "        vertical-align: middle;\n",
       "    }\n",
       "\n",
       "    .dataframe tbody tr th {\n",
       "        vertical-align: top;\n",
       "    }\n",
       "\n",
       "    .dataframe thead th {\n",
       "        text-align: right;\n",
       "    }\n",
       "</style>\n",
       "<table border=\"1\" class=\"dataframe\">\n",
       "  <thead>\n",
       "    <tr style=\"text-align: right;\">\n",
       "      <th></th>\n",
       "      <th>rank_number</th>\n",
       "      <th>player_age</th>\n",
       "      <th>ranking_points</th>\n",
       "      <th>player_id</th>\n",
       "      <th>year</th>\n",
       "      <th>month</th>\n",
       "    </tr>\n",
       "  </thead>\n",
       "  <tbody>\n",
       "    <tr>\n",
       "      <th>0</th>\n",
       "      <td>1</td>\n",
       "      <td>31.0</td>\n",
       "      <td>10645</td>\n",
       "      <td>n409</td>\n",
       "      <td>2017</td>\n",
       "      <td>11</td>\n",
       "    </tr>\n",
       "    <tr>\n",
       "      <th>1</th>\n",
       "      <td>2</td>\n",
       "      <td>36.0</td>\n",
       "      <td>9605</td>\n",
       "      <td>f324</td>\n",
       "      <td>2017</td>\n",
       "      <td>11</td>\n",
       "    </tr>\n",
       "    <tr>\n",
       "      <th>2</th>\n",
       "      <td>3</td>\n",
       "      <td>26.0</td>\n",
       "      <td>5150</td>\n",
       "      <td>d875</td>\n",
       "      <td>2017</td>\n",
       "      <td>11</td>\n",
       "    </tr>\n",
       "    <tr>\n",
       "      <th>3</th>\n",
       "      <td>4</td>\n",
       "      <td>20.0</td>\n",
       "      <td>4610</td>\n",
       "      <td>z355</td>\n",
       "      <td>2017</td>\n",
       "      <td>11</td>\n",
       "    </tr>\n",
       "    <tr>\n",
       "      <th>4</th>\n",
       "      <td>5</td>\n",
       "      <td>24.0</td>\n",
       "      <td>4015</td>\n",
       "      <td>tb69</td>\n",
       "      <td>2017</td>\n",
       "      <td>11</td>\n",
       "    </tr>\n",
       "  </tbody>\n",
       "</table>\n",
       "</div>"
      ],
      "text/plain": [
       "   rank_number  player_age  ranking_points player_id  year  month\n",
       "0            1        31.0           10645      n409  2017     11\n",
       "1            2        36.0            9605      f324  2017     11\n",
       "2            3        26.0            5150      d875  2017     11\n",
       "3            4        20.0            4610      z355  2017     11\n",
       "4            5        24.0            4015      tb69  2017     11"
      ]
     },
     "execution_count": 12,
     "metadata": {},
     "output_type": "execute_result"
    }
   ],
   "source": [
    "raw_rankings.head()"
   ]
  },
  {
   "cell_type": "code",
   "execution_count": 13,
   "metadata": {},
   "outputs": [],
   "source": [
    "ranking_post_2010 = raw_rankings.loc[(raw_rankings[\"year\"] >=2012) & (raw_rankings[\"month\"] == 11) & (raw_rankings[\"rank_number\"]<=200)] #Taking only the players who were in top 200 between 2012 and 2017"
   ]
  },
  {
   "cell_type": "code",
   "execution_count": 314,
   "metadata": {
    "collapsed": true,
    "jupyter": {
     "outputs_hidden": true
    }
   },
   "outputs": [
    {
     "data": {
      "text/html": [
       "<div>\n",
       "<style scoped>\n",
       "    .dataframe tbody tr th:only-of-type {\n",
       "        vertical-align: middle;\n",
       "    }\n",
       "\n",
       "    .dataframe tbody tr th {\n",
       "        vertical-align: top;\n",
       "    }\n",
       "\n",
       "    .dataframe thead th {\n",
       "        text-align: right;\n",
       "    }\n",
       "</style>\n",
       "<table border=\"1\" class=\"dataframe\">\n",
       "  <thead>\n",
       "    <tr style=\"text-align: right;\">\n",
       "      <th></th>\n",
       "      <th>rank_number</th>\n",
       "      <th>player_age</th>\n",
       "      <th>ranking_points</th>\n",
       "      <th>player_id</th>\n",
       "      <th>year</th>\n",
       "      <th>month</th>\n",
       "    </tr>\n",
       "  </thead>\n",
       "  <tbody>\n",
       "    <tr>\n",
       "      <th>0</th>\n",
       "      <td>1</td>\n",
       "      <td>31.0</td>\n",
       "      <td>10645</td>\n",
       "      <td>n409</td>\n",
       "      <td>2017</td>\n",
       "      <td>11</td>\n",
       "    </tr>\n",
       "    <tr>\n",
       "      <th>1</th>\n",
       "      <td>2</td>\n",
       "      <td>36.0</td>\n",
       "      <td>9605</td>\n",
       "      <td>f324</td>\n",
       "      <td>2017</td>\n",
       "      <td>11</td>\n",
       "    </tr>\n",
       "    <tr>\n",
       "      <th>2</th>\n",
       "      <td>3</td>\n",
       "      <td>26.0</td>\n",
       "      <td>5150</td>\n",
       "      <td>d875</td>\n",
       "      <td>2017</td>\n",
       "      <td>11</td>\n",
       "    </tr>\n",
       "    <tr>\n",
       "      <th>3</th>\n",
       "      <td>4</td>\n",
       "      <td>20.0</td>\n",
       "      <td>4610</td>\n",
       "      <td>z355</td>\n",
       "      <td>2017</td>\n",
       "      <td>11</td>\n",
       "    </tr>\n",
       "    <tr>\n",
       "      <th>4</th>\n",
       "      <td>5</td>\n",
       "      <td>24.0</td>\n",
       "      <td>4015</td>\n",
       "      <td>tb69</td>\n",
       "      <td>2017</td>\n",
       "      <td>11</td>\n",
       "    </tr>\n",
       "  </tbody>\n",
       "</table>\n",
       "</div>"
      ],
      "text/plain": [
       "   rank_number  player_age  ranking_points player_id  year  month\n",
       "0            1        31.0           10645      n409  2017     11\n",
       "1            2        36.0            9605      f324  2017     11\n",
       "2            3        26.0            5150      d875  2017     11\n",
       "3            4        20.0            4610      z355  2017     11\n",
       "4            5        24.0            4015      tb69  2017     11"
      ]
     },
     "execution_count": 314,
     "metadata": {},
     "output_type": "execute_result"
    }
   ],
   "source": [
    "ranking_post_2010.head()"
   ]
  },
  {
   "cell_type": "code",
   "execution_count": 14,
   "metadata": {},
   "outputs": [],
   "source": [
    "#Finding an average ranking for each player"
   ]
  },
  {
   "cell_type": "code",
   "execution_count": 315,
   "metadata": {},
   "outputs": [],
   "source": [
    "rank_by_person = ranking_post_2010.groupby(\"player_id\").mean()"
   ]
  },
  {
   "cell_type": "code",
   "execution_count": 316,
   "metadata": {},
   "outputs": [],
   "source": [
    "avg_rank = rank_by_person.sort_values(by=['rank_number'])"
   ]
  },
  {
   "cell_type": "code",
   "execution_count": 317,
   "metadata": {},
   "outputs": [],
   "source": [
    "avg_rank[\"id\"] = avg_rank.index"
   ]
  },
  {
   "cell_type": "code",
   "execution_count": 318,
   "metadata": {
    "collapsed": true,
    "jupyter": {
     "outputs_hidden": true
    }
   },
   "outputs": [
    {
     "data": {
      "text/html": [
       "<div>\n",
       "<style scoped>\n",
       "    .dataframe tbody tr th:only-of-type {\n",
       "        vertical-align: middle;\n",
       "    }\n",
       "\n",
       "    .dataframe tbody tr th {\n",
       "        vertical-align: top;\n",
       "    }\n",
       "\n",
       "    .dataframe thead th {\n",
       "        text-align: right;\n",
       "    }\n",
       "</style>\n",
       "<table border=\"1\" class=\"dataframe\">\n",
       "  <thead>\n",
       "    <tr style=\"text-align: right;\">\n",
       "      <th></th>\n",
       "      <th>rank_number</th>\n",
       "      <th>player_age</th>\n",
       "      <th>ranking_points</th>\n",
       "      <th>year</th>\n",
       "      <th>month</th>\n",
       "      <th>id</th>\n",
       "    </tr>\n",
       "    <tr>\n",
       "      <th>player_id</th>\n",
       "      <th></th>\n",
       "      <th></th>\n",
       "      <th></th>\n",
       "      <th></th>\n",
       "      <th></th>\n",
       "      <th></th>\n",
       "    </tr>\n",
       "  </thead>\n",
       "  <tbody>\n",
       "    <tr>\n",
       "      <th>d643</th>\n",
       "      <td>2.708333</td>\n",
       "      <td>27.416667</td>\n",
       "      <td>11362.916667</td>\n",
       "      <td>2014.416667</td>\n",
       "      <td>11.0</td>\n",
       "      <td>d643</td>\n",
       "    </tr>\n",
       "    <tr>\n",
       "      <th>n409</th>\n",
       "      <td>3.958333</td>\n",
       "      <td>28.416667</td>\n",
       "      <td>7296.875000</td>\n",
       "      <td>2014.416667</td>\n",
       "      <td>11.0</td>\n",
       "      <td>n409</td>\n",
       "    </tr>\n",
       "    <tr>\n",
       "      <th>mc10</th>\n",
       "      <td>4.791667</td>\n",
       "      <td>27.416667</td>\n",
       "      <td>7084.166667</td>\n",
       "      <td>2014.416667</td>\n",
       "      <td>11.0</td>\n",
       "      <td>mc10</td>\n",
       "    </tr>\n",
       "    <tr>\n",
       "      <th>f324</th>\n",
       "      <td>5.208333</td>\n",
       "      <td>33.416667</td>\n",
       "      <td>7047.916667</td>\n",
       "      <td>2014.416667</td>\n",
       "      <td>11.0</td>\n",
       "      <td>f324</td>\n",
       "    </tr>\n",
       "    <tr>\n",
       "      <th>w367</th>\n",
       "      <td>7.208333</td>\n",
       "      <td>29.416667</td>\n",
       "      <td>4425.000000</td>\n",
       "      <td>2014.416667</td>\n",
       "      <td>11.0</td>\n",
       "      <td>w367</td>\n",
       "    </tr>\n",
       "  </tbody>\n",
       "</table>\n",
       "</div>"
      ],
      "text/plain": [
       "           rank_number  player_age  ranking_points         year  month    id\n",
       "player_id                                                                   \n",
       "d643          2.708333   27.416667    11362.916667  2014.416667   11.0  d643\n",
       "n409          3.958333   28.416667     7296.875000  2014.416667   11.0  n409\n",
       "mc10          4.791667   27.416667     7084.166667  2014.416667   11.0  mc10\n",
       "f324          5.208333   33.416667     7047.916667  2014.416667   11.0  f324\n",
       "w367          7.208333   29.416667     4425.000000  2014.416667   11.0  w367"
      ]
     },
     "execution_count": 318,
     "metadata": {},
     "output_type": "execute_result"
    }
   ],
   "source": [
    "avg_rank.head()"
   ]
  },
  {
   "cell_type": "code",
   "execution_count": 16,
   "metadata": {},
   "outputs": [],
   "source": [
    "#Merging player overview and player ranking datasets"
   ]
  },
  {
   "cell_type": "code",
   "execution_count": 319,
   "metadata": {},
   "outputs": [],
   "source": [
    "tennis_data = pd.merge(avg_rank, raw_player, how = \"left\", left_on = \"id\", right_on = \"player_id\")"
   ]
  },
  {
   "cell_type": "code",
   "execution_count": 320,
   "metadata": {},
   "outputs": [],
   "source": [
    "tennis_data = tennis_data.drop(columns = [\"year\", \"month\", \"id\", \"player_id\"])"
   ]
  },
  {
   "cell_type": "code",
   "execution_count": 752,
   "metadata": {
    "collapsed": true,
    "jupyter": {
     "outputs_hidden": true
    }
   },
   "outputs": [
    {
     "data": {
      "text/html": [
       "<div>\n",
       "<style scoped>\n",
       "    .dataframe tbody tr th:only-of-type {\n",
       "        vertical-align: middle;\n",
       "    }\n",
       "\n",
       "    .dataframe tbody tr th {\n",
       "        vertical-align: top;\n",
       "    }\n",
       "\n",
       "    .dataframe thead th {\n",
       "        text-align: right;\n",
       "    }\n",
       "</style>\n",
       "<table border=\"1\" class=\"dataframe\">\n",
       "  <thead>\n",
       "    <tr style=\"text-align: right;\">\n",
       "      <th></th>\n",
       "      <th>rank_number</th>\n",
       "      <th>player_age</th>\n",
       "      <th>ranking_points</th>\n",
       "      <th>first_name</th>\n",
       "      <th>last_name</th>\n",
       "      <th>flag_code</th>\n",
       "      <th>height_cm</th>\n",
       "      <th>country_name</th>\n",
       "    </tr>\n",
       "  </thead>\n",
       "  <tbody>\n",
       "    <tr>\n",
       "      <th>0</th>\n",
       "      <td>2.708333</td>\n",
       "      <td>27.416667</td>\n",
       "      <td>11362.916667</td>\n",
       "      <td>Novak</td>\n",
       "      <td>Djokovic</td>\n",
       "      <td>SRB</td>\n",
       "      <td>188.0</td>\n",
       "      <td>Serbia</td>\n",
       "    </tr>\n",
       "    <tr>\n",
       "      <th>1</th>\n",
       "      <td>3.958333</td>\n",
       "      <td>28.416667</td>\n",
       "      <td>7296.875000</td>\n",
       "      <td>Rafael</td>\n",
       "      <td>Nadal</td>\n",
       "      <td>ESP</td>\n",
       "      <td>185.0</td>\n",
       "      <td>Spain</td>\n",
       "    </tr>\n",
       "    <tr>\n",
       "      <th>2</th>\n",
       "      <td>4.791667</td>\n",
       "      <td>27.416667</td>\n",
       "      <td>7084.166667</td>\n",
       "      <td>Andy</td>\n",
       "      <td>Murray</td>\n",
       "      <td>GBR</td>\n",
       "      <td>191.0</td>\n",
       "      <td>United Kingdom</td>\n",
       "    </tr>\n",
       "    <tr>\n",
       "      <th>3</th>\n",
       "      <td>5.208333</td>\n",
       "      <td>33.416667</td>\n",
       "      <td>7047.916667</td>\n",
       "      <td>Roger</td>\n",
       "      <td>Federer</td>\n",
       "      <td>SUI</td>\n",
       "      <td>185.0</td>\n",
       "      <td>Switzerland</td>\n",
       "    </tr>\n",
       "    <tr>\n",
       "      <th>4</th>\n",
       "      <td>7.208333</td>\n",
       "      <td>29.416667</td>\n",
       "      <td>4425.000000</td>\n",
       "      <td>Stan</td>\n",
       "      <td>Wawrinka</td>\n",
       "      <td>SUI</td>\n",
       "      <td>183.0</td>\n",
       "      <td>Switzerland</td>\n",
       "    </tr>\n",
       "    <tr>\n",
       "      <th>5</th>\n",
       "      <td>8.541667</td>\n",
       "      <td>29.416667</td>\n",
       "      <td>3950.833333</td>\n",
       "      <td>Tomas</td>\n",
       "      <td>Berdych</td>\n",
       "      <td>CZE</td>\n",
       "      <td>196.0</td>\n",
       "      <td>Czech Republic</td>\n",
       "    </tr>\n",
       "    <tr>\n",
       "      <th>6</th>\n",
       "      <td>10.958333</td>\n",
       "      <td>29.416667</td>\n",
       "      <td>2809.375000</td>\n",
       "      <td>Jo-Wilfried</td>\n",
       "      <td>Tsonga</td>\n",
       "      <td>FRA</td>\n",
       "      <td>188.0</td>\n",
       "      <td>France</td>\n",
       "    </tr>\n",
       "    <tr>\n",
       "      <th>7</th>\n",
       "      <td>11.833333</td>\n",
       "      <td>23.416667</td>\n",
       "      <td>3164.791667</td>\n",
       "      <td>Milos</td>\n",
       "      <td>Raonic</td>\n",
       "      <td>CAN</td>\n",
       "      <td>196.0</td>\n",
       "      <td>Canada</td>\n",
       "    </tr>\n",
       "    <tr>\n",
       "      <th>8</th>\n",
       "      <td>12.041667</td>\n",
       "      <td>24.416667</td>\n",
       "      <td>3338.958333</td>\n",
       "      <td>Kei</td>\n",
       "      <td>Nishikori</td>\n",
       "      <td>JPN</td>\n",
       "      <td>178.0</td>\n",
       "      <td>Japan</td>\n",
       "    </tr>\n",
       "    <tr>\n",
       "      <th>9</th>\n",
       "      <td>12.583333</td>\n",
       "      <td>32.416667</td>\n",
       "      <td>4042.708333</td>\n",
       "      <td>David</td>\n",
       "      <td>Ferrer</td>\n",
       "      <td>ESP</td>\n",
       "      <td>175.0</td>\n",
       "      <td>Spain</td>\n",
       "    </tr>\n",
       "    <tr>\n",
       "      <th>10</th>\n",
       "      <td>14.541667</td>\n",
       "      <td>26.416667</td>\n",
       "      <td>2820.000000</td>\n",
       "      <td>Marin</td>\n",
       "      <td>Cilic</td>\n",
       "      <td>CRO</td>\n",
       "      <td>198.0</td>\n",
       "      <td>Croatia</td>\n",
       "    </tr>\n",
       "    <tr>\n",
       "      <th>11</th>\n",
       "      <td>15.375000</td>\n",
       "      <td>29.416667</td>\n",
       "      <td>2148.125000</td>\n",
       "      <td>John</td>\n",
       "      <td>Isner</td>\n",
       "      <td>USA</td>\n",
       "      <td>208.0</td>\n",
       "      <td>United States</td>\n",
       "    </tr>\n",
       "    <tr>\n",
       "      <th>12</th>\n",
       "      <td>16.333333</td>\n",
       "      <td>28.416667</td>\n",
       "      <td>2268.333333</td>\n",
       "      <td>Richard</td>\n",
       "      <td>Gasquet</td>\n",
       "      <td>FRA</td>\n",
       "      <td>185.0</td>\n",
       "      <td>France</td>\n",
       "    </tr>\n",
       "    <tr>\n",
       "      <th>13</th>\n",
       "      <td>23.000000</td>\n",
       "      <td>23.416667</td>\n",
       "      <td>2144.541667</td>\n",
       "      <td>Grigor</td>\n",
       "      <td>Dimitrov</td>\n",
       "      <td>BUL</td>\n",
       "      <td>191.0</td>\n",
       "      <td>Bulgaria</td>\n",
       "    </tr>\n",
       "    <tr>\n",
       "      <th>14</th>\n",
       "      <td>26.333333</td>\n",
       "      <td>33.416667</td>\n",
       "      <td>1491.250000</td>\n",
       "      <td>Feliciano</td>\n",
       "      <td>Lopez</td>\n",
       "      <td>ESP</td>\n",
       "      <td>185.0</td>\n",
       "      <td>Spain</td>\n",
       "    </tr>\n",
       "    <tr>\n",
       "      <th>15</th>\n",
       "      <td>27.000000</td>\n",
       "      <td>30.000000</td>\n",
       "      <td>1255.000000</td>\n",
       "      <td>Mardy</td>\n",
       "      <td>Fish</td>\n",
       "      <td>USA</td>\n",
       "      <td>188.0</td>\n",
       "      <td>United States</td>\n",
       "    </tr>\n",
       "    <tr>\n",
       "      <th>16</th>\n",
       "      <td>27.000000</td>\n",
       "      <td>31.416667</td>\n",
       "      <td>1434.583333</td>\n",
       "      <td>Philipp</td>\n",
       "      <td>Kohlschreiber</td>\n",
       "      <td>GER</td>\n",
       "      <td>178.0</td>\n",
       "      <td>Germany</td>\n",
       "    </tr>\n",
       "    <tr>\n",
       "      <th>17</th>\n",
       "      <td>27.708333</td>\n",
       "      <td>28.416667</td>\n",
       "      <td>1753.125000</td>\n",
       "      <td>Kevin</td>\n",
       "      <td>Anderson</td>\n",
       "      <td>RSA</td>\n",
       "      <td>203.0</td>\n",
       "      <td>South Africa</td>\n",
       "    </tr>\n",
       "    <tr>\n",
       "      <th>18</th>\n",
       "      <td>27.875000</td>\n",
       "      <td>29.416667</td>\n",
       "      <td>1732.916667</td>\n",
       "      <td>Gilles</td>\n",
       "      <td>Simon</td>\n",
       "      <td>FRA</td>\n",
       "      <td>183.0</td>\n",
       "      <td>France</td>\n",
       "    </tr>\n",
       "    <tr>\n",
       "      <th>19</th>\n",
       "      <td>29.500000</td>\n",
       "      <td>27.416667</td>\n",
       "      <td>1450.000000</td>\n",
       "      <td>Fabio</td>\n",
       "      <td>Fognini</td>\n",
       "      <td>ITA</td>\n",
       "      <td>178.0</td>\n",
       "      <td>Italy</td>\n",
       "    </tr>\n",
       "    <tr>\n",
       "      <th>20</th>\n",
       "      <td>32.312500</td>\n",
       "      <td>29.375000</td>\n",
       "      <td>1315.375000</td>\n",
       "      <td>Pablo</td>\n",
       "      <td>Cuevas</td>\n",
       "      <td>URU</td>\n",
       "      <td>180.0</td>\n",
       "      <td>Uruguay</td>\n",
       "    </tr>\n",
       "    <tr>\n",
       "      <th>21</th>\n",
       "      <td>32.583333</td>\n",
       "      <td>28.416667</td>\n",
       "      <td>1669.166667</td>\n",
       "      <td>Gael</td>\n",
       "      <td>Monfils</td>\n",
       "      <td>FRA</td>\n",
       "      <td>193.0</td>\n",
       "      <td>France</td>\n",
       "    </tr>\n",
       "    <tr>\n",
       "      <th>22</th>\n",
       "      <td>35.500000</td>\n",
       "      <td>26.416667</td>\n",
       "      <td>1548.416667</td>\n",
       "      <td>Roberto</td>\n",
       "      <td>Bautista Agut</td>\n",
       "      <td>ESP</td>\n",
       "      <td>183.0</td>\n",
       "      <td>Spain</td>\n",
       "    </tr>\n",
       "    <tr>\n",
       "      <th>23</th>\n",
       "      <td>35.916667</td>\n",
       "      <td>30.916667</td>\n",
       "      <td>1165.625000</td>\n",
       "      <td>Fernando</td>\n",
       "      <td>Verdasco</td>\n",
       "      <td>ESP</td>\n",
       "      <td>185.0</td>\n",
       "      <td>Spain</td>\n",
       "    </tr>\n",
       "    <tr>\n",
       "      <th>24</th>\n",
       "      <td>36.041667</td>\n",
       "      <td>23.416667</td>\n",
       "      <td>1741.291667</td>\n",
       "      <td>David</td>\n",
       "      <td>Goffin</td>\n",
       "      <td>BEL</td>\n",
       "      <td>180.0</td>\n",
       "      <td>Belgium</td>\n",
       "    </tr>\n",
       "    <tr>\n",
       "      <th>25</th>\n",
       "      <td>36.208333</td>\n",
       "      <td>27.416667</td>\n",
       "      <td>1322.916667</td>\n",
       "      <td>Sam</td>\n",
       "      <td>Querrey</td>\n",
       "      <td>USA</td>\n",
       "      <td>198.0</td>\n",
       "      <td>United States</td>\n",
       "    </tr>\n",
       "    <tr>\n",
       "      <th>26</th>\n",
       "      <td>36.416667</td>\n",
       "      <td>35.000000</td>\n",
       "      <td>1601.666667</td>\n",
       "      <td>Tommy</td>\n",
       "      <td>Haas</td>\n",
       "      <td>GER</td>\n",
       "      <td>188.0</td>\n",
       "      <td>Germany</td>\n",
       "    </tr>\n",
       "    <tr>\n",
       "      <th>27</th>\n",
       "      <td>39.000000</td>\n",
       "      <td>30.000000</td>\n",
       "      <td>1015.000000</td>\n",
       "      <td>Andy</td>\n",
       "      <td>Roddick</td>\n",
       "      <td>USA</td>\n",
       "      <td>188.0</td>\n",
       "      <td>United States</td>\n",
       "    </tr>\n",
       "    <tr>\n",
       "      <th>28</th>\n",
       "      <td>39.083333</td>\n",
       "      <td>26.208333</td>\n",
       "      <td>1205.125000</td>\n",
       "      <td>Alexandr</td>\n",
       "      <td>Dolgopolov</td>\n",
       "      <td>UKR</td>\n",
       "      <td>180.0</td>\n",
       "      <td>Ukraine</td>\n",
       "    </tr>\n",
       "    <tr>\n",
       "      <th>29</th>\n",
       "      <td>39.400000</td>\n",
       "      <td>21.900000</td>\n",
       "      <td>1935.850000</td>\n",
       "      <td>Dominic</td>\n",
       "      <td>Thiem</td>\n",
       "      <td>AUT</td>\n",
       "      <td>185.0</td>\n",
       "      <td>Austria</td>\n",
       "    </tr>\n",
       "    <tr>\n",
       "      <th>...</th>\n",
       "      <td>...</td>\n",
       "      <td>...</td>\n",
       "      <td>...</td>\n",
       "      <td>...</td>\n",
       "      <td>...</td>\n",
       "      <td>...</td>\n",
       "      <td>...</td>\n",
       "      <td>...</td>\n",
       "    </tr>\n",
       "    <tr>\n",
       "      <th>349</th>\n",
       "      <td>192.500000</td>\n",
       "      <td>26.500000</td>\n",
       "      <td>256.250000</td>\n",
       "      <td>Amir</td>\n",
       "      <td>Weintraub</td>\n",
       "      <td>ISR</td>\n",
       "      <td>188.0</td>\n",
       "      <td>Israel</td>\n",
       "    </tr>\n",
       "    <tr>\n",
       "      <th>350</th>\n",
       "      <td>192.600000</td>\n",
       "      <td>22.000000</td>\n",
       "      <td>259.000000</td>\n",
       "      <td>Aslan</td>\n",
       "      <td>Karatsev</td>\n",
       "      <td>RUS</td>\n",
       "      <td>NaN</td>\n",
       "      <td>Russia</td>\n",
       "    </tr>\n",
       "    <tr>\n",
       "      <th>351</th>\n",
       "      <td>193.000000</td>\n",
       "      <td>27.000000</td>\n",
       "      <td>269.000000</td>\n",
       "      <td>Viktor</td>\n",
       "      <td>Galovic</td>\n",
       "      <td>CRO</td>\n",
       "      <td>193.0</td>\n",
       "      <td>Croatia</td>\n",
       "    </tr>\n",
       "    <tr>\n",
       "      <th>352</th>\n",
       "      <td>193.750000</td>\n",
       "      <td>27.000000</td>\n",
       "      <td>260.500000</td>\n",
       "      <td>Martin</td>\n",
       "      <td>Fischer</td>\n",
       "      <td>AUT</td>\n",
       "      <td>180.0</td>\n",
       "      <td>Austria</td>\n",
       "    </tr>\n",
       "    <tr>\n",
       "      <th>353</th>\n",
       "      <td>193.750000</td>\n",
       "      <td>24.000000</td>\n",
       "      <td>260.000000</td>\n",
       "      <td>Maxime</td>\n",
       "      <td>Teixeira</td>\n",
       "      <td>FRA</td>\n",
       "      <td>188.0</td>\n",
       "      <td>France</td>\n",
       "    </tr>\n",
       "    <tr>\n",
       "      <th>354</th>\n",
       "      <td>194.500000</td>\n",
       "      <td>23.000000</td>\n",
       "      <td>251.000000</td>\n",
       "      <td>Axel</td>\n",
       "      <td>Michon</td>\n",
       "      <td>FRA</td>\n",
       "      <td>NaN</td>\n",
       "      <td>France</td>\n",
       "    </tr>\n",
       "    <tr>\n",
       "      <th>355</th>\n",
       "      <td>194.750000</td>\n",
       "      <td>26.000000</td>\n",
       "      <td>250.000000</td>\n",
       "      <td>Miloslav</td>\n",
       "      <td>Mecir</td>\n",
       "      <td>SVK</td>\n",
       "      <td>196.0</td>\n",
       "      <td>Slovakia</td>\n",
       "    </tr>\n",
       "    <tr>\n",
       "      <th>356</th>\n",
       "      <td>195.000000</td>\n",
       "      <td>25.600000</td>\n",
       "      <td>247.000000</td>\n",
       "      <td>Gianluca</td>\n",
       "      <td>Naso</td>\n",
       "      <td>ITA</td>\n",
       "      <td>193.0</td>\n",
       "      <td>Italy</td>\n",
       "    </tr>\n",
       "    <tr>\n",
       "      <th>357</th>\n",
       "      <td>195.500000</td>\n",
       "      <td>24.000000</td>\n",
       "      <td>282.000000</td>\n",
       "      <td>Matthew</td>\n",
       "      <td>Barton</td>\n",
       "      <td>AUS</td>\n",
       "      <td>191.0</td>\n",
       "      <td>Australia</td>\n",
       "    </tr>\n",
       "    <tr>\n",
       "      <th>358</th>\n",
       "      <td>195.750000</td>\n",
       "      <td>25.000000</td>\n",
       "      <td>257.000000</td>\n",
       "      <td>Kristijan</td>\n",
       "      <td>Mesaros</td>\n",
       "      <td>CRO</td>\n",
       "      <td>188.0</td>\n",
       "      <td>Croatia</td>\n",
       "    </tr>\n",
       "    <tr>\n",
       "      <th>359</th>\n",
       "      <td>195.777778</td>\n",
       "      <td>28.000000</td>\n",
       "      <td>266.111111</td>\n",
       "      <td>James</td>\n",
       "      <td>McGee</td>\n",
       "      <td>IRL</td>\n",
       "      <td>183.0</td>\n",
       "      <td>Ireland</td>\n",
       "    </tr>\n",
       "    <tr>\n",
       "      <th>360</th>\n",
       "      <td>196.000000</td>\n",
       "      <td>20.000000</td>\n",
       "      <td>256.000000</td>\n",
       "      <td>Pedro</td>\n",
       "      <td>Cachin</td>\n",
       "      <td>ARG</td>\n",
       "      <td>NaN</td>\n",
       "      <td>Argentina</td>\n",
       "    </tr>\n",
       "    <tr>\n",
       "      <th>361</th>\n",
       "      <td>196.250000</td>\n",
       "      <td>22.500000</td>\n",
       "      <td>256.000000</td>\n",
       "      <td>Alex</td>\n",
       "      <td>Bolt</td>\n",
       "      <td>AUS</td>\n",
       "      <td>183.0</td>\n",
       "      <td>Australia</td>\n",
       "    </tr>\n",
       "    <tr>\n",
       "      <th>362</th>\n",
       "      <td>196.500000</td>\n",
       "      <td>27.000000</td>\n",
       "      <td>243.000000</td>\n",
       "      <td>Arnau</td>\n",
       "      <td>Brugues-Davi</td>\n",
       "      <td>ESP</td>\n",
       "      <td>183.0</td>\n",
       "      <td>Spain</td>\n",
       "    </tr>\n",
       "    <tr>\n",
       "      <th>363</th>\n",
       "      <td>196.714286</td>\n",
       "      <td>26.285714</td>\n",
       "      <td>247.857143</td>\n",
       "      <td>Yannick</td>\n",
       "      <td>Mertens</td>\n",
       "      <td>BEL</td>\n",
       "      <td>188.0</td>\n",
       "      <td>Belgium</td>\n",
       "    </tr>\n",
       "    <tr>\n",
       "      <th>364</th>\n",
       "      <td>196.800000</td>\n",
       "      <td>22.000000</td>\n",
       "      <td>254.600000</td>\n",
       "      <td>Tristan</td>\n",
       "      <td>Lamasine</td>\n",
       "      <td>FRA</td>\n",
       "      <td>183.0</td>\n",
       "      <td>France</td>\n",
       "    </tr>\n",
       "    <tr>\n",
       "      <th>365</th>\n",
       "      <td>197.000000</td>\n",
       "      <td>20.000000</td>\n",
       "      <td>273.000000</td>\n",
       "      <td>Christian</td>\n",
       "      <td>Garin</td>\n",
       "      <td>CHI</td>\n",
       "      <td>185.0</td>\n",
       "      <td>Chile</td>\n",
       "    </tr>\n",
       "    <tr>\n",
       "      <th>366</th>\n",
       "      <td>197.000000</td>\n",
       "      <td>25.000000</td>\n",
       "      <td>261.333333</td>\n",
       "      <td>Evan</td>\n",
       "      <td>King</td>\n",
       "      <td>USA</td>\n",
       "      <td>185.0</td>\n",
       "      <td>United States</td>\n",
       "    </tr>\n",
       "    <tr>\n",
       "      <th>367</th>\n",
       "      <td>197.200000</td>\n",
       "      <td>25.000000</td>\n",
       "      <td>253.800000</td>\n",
       "      <td>Alexander</td>\n",
       "      <td>Sarkissian</td>\n",
       "      <td>USA</td>\n",
       "      <td>191.0</td>\n",
       "      <td>United States</td>\n",
       "    </tr>\n",
       "    <tr>\n",
       "      <th>368</th>\n",
       "      <td>197.750000</td>\n",
       "      <td>28.000000</td>\n",
       "      <td>276.500000</td>\n",
       "      <td>Miljan</td>\n",
       "      <td>Zekic</td>\n",
       "      <td>SRB</td>\n",
       "      <td>185.0</td>\n",
       "      <td>Serbia</td>\n",
       "    </tr>\n",
       "    <tr>\n",
       "      <th>369</th>\n",
       "      <td>198.000000</td>\n",
       "      <td>29.000000</td>\n",
       "      <td>240.000000</td>\n",
       "      <td>Ilija</td>\n",
       "      <td>Bozoljac</td>\n",
       "      <td>SRB</td>\n",
       "      <td>193.0</td>\n",
       "      <td>Serbia</td>\n",
       "    </tr>\n",
       "    <tr>\n",
       "      <th>370</th>\n",
       "      <td>198.000000</td>\n",
       "      <td>26.000000</td>\n",
       "      <td>277.250000</td>\n",
       "      <td>Mohamed</td>\n",
       "      <td>Safwat</td>\n",
       "      <td>EGY</td>\n",
       "      <td>183.0</td>\n",
       "      <td>Egypt</td>\n",
       "    </tr>\n",
       "    <tr>\n",
       "      <th>371</th>\n",
       "      <td>198.000000</td>\n",
       "      <td>22.000000</td>\n",
       "      <td>260.666667</td>\n",
       "      <td>Brayden</td>\n",
       "      <td>Schnur</td>\n",
       "      <td>CAN</td>\n",
       "      <td>193.0</td>\n",
       "      <td>Canada</td>\n",
       "    </tr>\n",
       "    <tr>\n",
       "      <th>372</th>\n",
       "      <td>198.750000</td>\n",
       "      <td>26.000000</td>\n",
       "      <td>252.500000</td>\n",
       "      <td>Niels</td>\n",
       "      <td>Desein</td>\n",
       "      <td>BEL</td>\n",
       "      <td>191.0</td>\n",
       "      <td>Belgium</td>\n",
       "    </tr>\n",
       "    <tr>\n",
       "      <th>373</th>\n",
       "      <td>199.000000</td>\n",
       "      <td>20.000000</td>\n",
       "      <td>274.000000</td>\n",
       "      <td>Noah</td>\n",
       "      <td>Rubin</td>\n",
       "      <td>USA</td>\n",
       "      <td>175.0</td>\n",
       "      <td>United States</td>\n",
       "    </tr>\n",
       "    <tr>\n",
       "      <th>374</th>\n",
       "      <td>199.500000</td>\n",
       "      <td>21.000000</td>\n",
       "      <td>260.000000</td>\n",
       "      <td>NaN</td>\n",
       "      <td>NaN</td>\n",
       "      <td>NaN</td>\n",
       "      <td>NaN</td>\n",
       "      <td>NaN</td>\n",
       "    </tr>\n",
       "    <tr>\n",
       "      <th>375</th>\n",
       "      <td>199.500000</td>\n",
       "      <td>29.000000</td>\n",
       "      <td>238.000000</td>\n",
       "      <td>Bastian</td>\n",
       "      <td>Knittel</td>\n",
       "      <td>GER</td>\n",
       "      <td>180.0</td>\n",
       "      <td>Germany</td>\n",
       "    </tr>\n",
       "    <tr>\n",
       "      <th>376</th>\n",
       "      <td>200.000000</td>\n",
       "      <td>27.000000</td>\n",
       "      <td>238.000000</td>\n",
       "      <td>Leonardo</td>\n",
       "      <td>Kirche</td>\n",
       "      <td>BRA</td>\n",
       "      <td>188.0</td>\n",
       "      <td>Brazil</td>\n",
       "    </tr>\n",
       "    <tr>\n",
       "      <th>377</th>\n",
       "      <td>200.000000</td>\n",
       "      <td>21.000000</td>\n",
       "      <td>238.000000</td>\n",
       "      <td>Juan Ignacio</td>\n",
       "      <td>Londero</td>\n",
       "      <td>ARG</td>\n",
       "      <td>180.0</td>\n",
       "      <td>Argentina</td>\n",
       "    </tr>\n",
       "    <tr>\n",
       "      <th>378</th>\n",
       "      <td>200.000000</td>\n",
       "      <td>22.000000</td>\n",
       "      <td>271.000000</td>\n",
       "      <td>Pedja</td>\n",
       "      <td>Krstin</td>\n",
       "      <td>SRB</td>\n",
       "      <td>183.0</td>\n",
       "      <td>Serbia</td>\n",
       "    </tr>\n",
       "  </tbody>\n",
       "</table>\n",
       "<p>379 rows × 8 columns</p>\n",
       "</div>"
      ],
      "text/plain": [
       "     rank_number  player_age  ranking_points    first_name      last_name  \\\n",
       "0       2.708333   27.416667    11362.916667         Novak       Djokovic   \n",
       "1       3.958333   28.416667     7296.875000        Rafael          Nadal   \n",
       "2       4.791667   27.416667     7084.166667          Andy         Murray   \n",
       "3       5.208333   33.416667     7047.916667         Roger        Federer   \n",
       "4       7.208333   29.416667     4425.000000          Stan       Wawrinka   \n",
       "5       8.541667   29.416667     3950.833333         Tomas        Berdych   \n",
       "6      10.958333   29.416667     2809.375000   Jo-Wilfried         Tsonga   \n",
       "7      11.833333   23.416667     3164.791667         Milos         Raonic   \n",
       "8      12.041667   24.416667     3338.958333           Kei      Nishikori   \n",
       "9      12.583333   32.416667     4042.708333         David         Ferrer   \n",
       "10     14.541667   26.416667     2820.000000         Marin          Cilic   \n",
       "11     15.375000   29.416667     2148.125000          John          Isner   \n",
       "12     16.333333   28.416667     2268.333333       Richard        Gasquet   \n",
       "13     23.000000   23.416667     2144.541667        Grigor       Dimitrov   \n",
       "14     26.333333   33.416667     1491.250000     Feliciano          Lopez   \n",
       "15     27.000000   30.000000     1255.000000         Mardy           Fish   \n",
       "16     27.000000   31.416667     1434.583333       Philipp  Kohlschreiber   \n",
       "17     27.708333   28.416667     1753.125000         Kevin       Anderson   \n",
       "18     27.875000   29.416667     1732.916667        Gilles          Simon   \n",
       "19     29.500000   27.416667     1450.000000         Fabio        Fognini   \n",
       "20     32.312500   29.375000     1315.375000         Pablo         Cuevas   \n",
       "21     32.583333   28.416667     1669.166667          Gael        Monfils   \n",
       "22     35.500000   26.416667     1548.416667       Roberto  Bautista Agut   \n",
       "23     35.916667   30.916667     1165.625000      Fernando       Verdasco   \n",
       "24     36.041667   23.416667     1741.291667         David         Goffin   \n",
       "25     36.208333   27.416667     1322.916667           Sam        Querrey   \n",
       "26     36.416667   35.000000     1601.666667         Tommy           Haas   \n",
       "27     39.000000   30.000000     1015.000000          Andy        Roddick   \n",
       "28     39.083333   26.208333     1205.125000      Alexandr     Dolgopolov   \n",
       "29     39.400000   21.900000     1935.850000       Dominic          Thiem   \n",
       "..           ...         ...             ...           ...            ...   \n",
       "349   192.500000   26.500000      256.250000          Amir      Weintraub   \n",
       "350   192.600000   22.000000      259.000000         Aslan       Karatsev   \n",
       "351   193.000000   27.000000      269.000000        Viktor        Galovic   \n",
       "352   193.750000   27.000000      260.500000        Martin        Fischer   \n",
       "353   193.750000   24.000000      260.000000        Maxime       Teixeira   \n",
       "354   194.500000   23.000000      251.000000          Axel         Michon   \n",
       "355   194.750000   26.000000      250.000000      Miloslav          Mecir   \n",
       "356   195.000000   25.600000      247.000000      Gianluca           Naso   \n",
       "357   195.500000   24.000000      282.000000       Matthew         Barton   \n",
       "358   195.750000   25.000000      257.000000     Kristijan        Mesaros   \n",
       "359   195.777778   28.000000      266.111111         James          McGee   \n",
       "360   196.000000   20.000000      256.000000         Pedro         Cachin   \n",
       "361   196.250000   22.500000      256.000000          Alex           Bolt   \n",
       "362   196.500000   27.000000      243.000000         Arnau   Brugues-Davi   \n",
       "363   196.714286   26.285714      247.857143       Yannick        Mertens   \n",
       "364   196.800000   22.000000      254.600000       Tristan       Lamasine   \n",
       "365   197.000000   20.000000      273.000000     Christian          Garin   \n",
       "366   197.000000   25.000000      261.333333          Evan           King   \n",
       "367   197.200000   25.000000      253.800000     Alexander     Sarkissian   \n",
       "368   197.750000   28.000000      276.500000        Miljan          Zekic   \n",
       "369   198.000000   29.000000      240.000000         Ilija       Bozoljac   \n",
       "370   198.000000   26.000000      277.250000       Mohamed         Safwat   \n",
       "371   198.000000   22.000000      260.666667       Brayden         Schnur   \n",
       "372   198.750000   26.000000      252.500000         Niels         Desein   \n",
       "373   199.000000   20.000000      274.000000          Noah          Rubin   \n",
       "374   199.500000   21.000000      260.000000           NaN            NaN   \n",
       "375   199.500000   29.000000      238.000000       Bastian        Knittel   \n",
       "376   200.000000   27.000000      238.000000      Leonardo         Kirche   \n",
       "377   200.000000   21.000000      238.000000  Juan Ignacio        Londero   \n",
       "378   200.000000   22.000000      271.000000         Pedja         Krstin   \n",
       "\n",
       "    flag_code  height_cm    country_name  \n",
       "0         SRB      188.0          Serbia  \n",
       "1         ESP      185.0           Spain  \n",
       "2         GBR      191.0  United Kingdom  \n",
       "3         SUI      185.0     Switzerland  \n",
       "4         SUI      183.0     Switzerland  \n",
       "5         CZE      196.0  Czech Republic  \n",
       "6         FRA      188.0          France  \n",
       "7         CAN      196.0          Canada  \n",
       "8         JPN      178.0           Japan  \n",
       "9         ESP      175.0           Spain  \n",
       "10        CRO      198.0         Croatia  \n",
       "11        USA      208.0   United States  \n",
       "12        FRA      185.0          France  \n",
       "13        BUL      191.0        Bulgaria  \n",
       "14        ESP      185.0           Spain  \n",
       "15        USA      188.0   United States  \n",
       "16        GER      178.0         Germany  \n",
       "17        RSA      203.0    South Africa  \n",
       "18        FRA      183.0          France  \n",
       "19        ITA      178.0           Italy  \n",
       "20        URU      180.0         Uruguay  \n",
       "21        FRA      193.0          France  \n",
       "22        ESP      183.0           Spain  \n",
       "23        ESP      185.0           Spain  \n",
       "24        BEL      180.0         Belgium  \n",
       "25        USA      198.0   United States  \n",
       "26        GER      188.0         Germany  \n",
       "27        USA      188.0   United States  \n",
       "28        UKR      180.0         Ukraine  \n",
       "29        AUT      185.0         Austria  \n",
       "..        ...        ...             ...  \n",
       "349       ISR      188.0          Israel  \n",
       "350       RUS        NaN          Russia  \n",
       "351       CRO      193.0         Croatia  \n",
       "352       AUT      180.0         Austria  \n",
       "353       FRA      188.0          France  \n",
       "354       FRA        NaN          France  \n",
       "355       SVK      196.0        Slovakia  \n",
       "356       ITA      193.0           Italy  \n",
       "357       AUS      191.0       Australia  \n",
       "358       CRO      188.0         Croatia  \n",
       "359       IRL      183.0         Ireland  \n",
       "360       ARG        NaN       Argentina  \n",
       "361       AUS      183.0       Australia  \n",
       "362       ESP      183.0           Spain  \n",
       "363       BEL      188.0         Belgium  \n",
       "364       FRA      183.0          France  \n",
       "365       CHI      185.0           Chile  \n",
       "366       USA      185.0   United States  \n",
       "367       USA      191.0   United States  \n",
       "368       SRB      185.0          Serbia  \n",
       "369       SRB      193.0          Serbia  \n",
       "370       EGY      183.0           Egypt  \n",
       "371       CAN      193.0          Canada  \n",
       "372       BEL      191.0         Belgium  \n",
       "373       USA      175.0   United States  \n",
       "374       NaN        NaN             NaN  \n",
       "375       GER      180.0         Germany  \n",
       "376       BRA      188.0          Brazil  \n",
       "377       ARG      180.0       Argentina  \n",
       "378       SRB      183.0          Serbia  \n",
       "\n",
       "[379 rows x 8 columns]"
      ]
     },
     "execution_count": 752,
     "metadata": {},
     "output_type": "execute_result"
    }
   ],
   "source": [
    "tennis_data"
   ]
  },
  {
   "cell_type": "code",
   "execution_count": null,
   "metadata": {},
   "outputs": [],
   "source": [
    "#Dataset that helps to convert flag codes to countries' names in player dataset"
   ]
  },
  {
   "cell_type": "code",
   "execution_count": 322,
   "metadata": {},
   "outputs": [],
   "source": [
    "countries = pd.read_csv(\"data/all.csv\") "
   ]
  },
  {
   "cell_type": "code",
   "execution_count": 323,
   "metadata": {},
   "outputs": [],
   "source": [
    "countries = countries.loc[:, [\"name\", \"alpha-3\"]]"
   ]
  },
  {
   "cell_type": "code",
   "execution_count": 17,
   "metadata": {},
   "outputs": [],
   "source": [
    "#Merging the country and players dataset"
   ]
  },
  {
   "cell_type": "code",
   "execution_count": 324,
   "metadata": {},
   "outputs": [],
   "source": [
    "tennis_data = pd.merge(tennis_data, countries, how = \"left\", left_on = \"flag_code\", right_on = \"alpha-3\")"
   ]
  },
  {
   "cell_type": "code",
   "execution_count": 325,
   "metadata": {},
   "outputs": [],
   "source": [
    "tennis_data = tennis_data.rename(columns = {\"name\": \"country_name\"})"
   ]
  },
  {
   "cell_type": "code",
   "execution_count": 326,
   "metadata": {},
   "outputs": [],
   "source": [
    "country_dict = {\"SUI\": \"Switzerland\", \"CRO\": \"Croatia\", \"BUL\": \"Bulgaria\", \"GER\": \"Germany\", \"RSA\": \"South Africa\", \"LAT\": \"Latvia\", \"URU\": \"Uruguay\", \"POR\": \"Portugal\", \"NED\": \"Nederland\", \"TPE\": \"Taiwan\", \"CHI\": \"Chile\", \"SLO\": \"Slovenia\", \"BAR\": \"Barbados\", \"GRE\": \"Greece\", \"ESA\": \"El Salvador\"}"
   ]
  },
  {
   "cell_type": "code",
   "execution_count": 18,
   "metadata": {},
   "outputs": [],
   "source": [
    "#Adding country names that did not excist in country dataset manually"
   ]
  },
  {
   "cell_type": "code",
   "execution_count": 327,
   "metadata": {},
   "outputs": [],
   "source": [
    "def add_countries(country):\n",
    "    if country in country_dict.keys():\n",
    "        return country_dict[country]\n",
    "    else:\n",
    "        return \"NaN\""
   ]
  },
  {
   "cell_type": "code",
   "execution_count": 328,
   "metadata": {},
   "outputs": [],
   "source": [
    "fixed_country = tennis_data.loc[tennis_data[\"country_name\"].isnull(),'flag_code'].apply(add_countries)"
   ]
  },
  {
   "cell_type": "code",
   "execution_count": 329,
   "metadata": {},
   "outputs": [],
   "source": [
    "tennis_data.loc[tennis_data[\"country_name\"].isnull(), 'country_name'] = fixed_country"
   ]
  },
  {
   "cell_type": "code",
   "execution_count": 330,
   "metadata": {
    "collapsed": true,
    "jupyter": {
     "outputs_hidden": true
    }
   },
   "outputs": [
    {
     "data": {
      "text/html": [
       "<div>\n",
       "<style scoped>\n",
       "    .dataframe tbody tr th:only-of-type {\n",
       "        vertical-align: middle;\n",
       "    }\n",
       "\n",
       "    .dataframe tbody tr th {\n",
       "        vertical-align: top;\n",
       "    }\n",
       "\n",
       "    .dataframe thead th {\n",
       "        text-align: right;\n",
       "    }\n",
       "</style>\n",
       "<table border=\"1\" class=\"dataframe\">\n",
       "  <thead>\n",
       "    <tr style=\"text-align: right;\">\n",
       "      <th></th>\n",
       "      <th>rank_number</th>\n",
       "      <th>player_age</th>\n",
       "      <th>ranking_points</th>\n",
       "      <th>first_name</th>\n",
       "      <th>last_name</th>\n",
       "      <th>flag_code</th>\n",
       "      <th>height_cm</th>\n",
       "      <th>country_name</th>\n",
       "      <th>alpha-3</th>\n",
       "    </tr>\n",
       "  </thead>\n",
       "  <tbody>\n",
       "    <tr>\n",
       "      <th>0</th>\n",
       "      <td>2.708333</td>\n",
       "      <td>27.416667</td>\n",
       "      <td>11362.916667</td>\n",
       "      <td>Novak</td>\n",
       "      <td>Djokovic</td>\n",
       "      <td>SRB</td>\n",
       "      <td>188.0</td>\n",
       "      <td>Serbia</td>\n",
       "      <td>SRB</td>\n",
       "    </tr>\n",
       "    <tr>\n",
       "      <th>1</th>\n",
       "      <td>3.958333</td>\n",
       "      <td>28.416667</td>\n",
       "      <td>7296.875000</td>\n",
       "      <td>Rafael</td>\n",
       "      <td>Nadal</td>\n",
       "      <td>ESP</td>\n",
       "      <td>185.0</td>\n",
       "      <td>Spain</td>\n",
       "      <td>ESP</td>\n",
       "    </tr>\n",
       "    <tr>\n",
       "      <th>2</th>\n",
       "      <td>4.791667</td>\n",
       "      <td>27.416667</td>\n",
       "      <td>7084.166667</td>\n",
       "      <td>Andy</td>\n",
       "      <td>Murray</td>\n",
       "      <td>GBR</td>\n",
       "      <td>191.0</td>\n",
       "      <td>United Kingdom of Great Britain and Northern I...</td>\n",
       "      <td>GBR</td>\n",
       "    </tr>\n",
       "    <tr>\n",
       "      <th>3</th>\n",
       "      <td>5.208333</td>\n",
       "      <td>33.416667</td>\n",
       "      <td>7047.916667</td>\n",
       "      <td>Roger</td>\n",
       "      <td>Federer</td>\n",
       "      <td>SUI</td>\n",
       "      <td>185.0</td>\n",
       "      <td>Switzerland</td>\n",
       "      <td>NaN</td>\n",
       "    </tr>\n",
       "    <tr>\n",
       "      <th>4</th>\n",
       "      <td>7.208333</td>\n",
       "      <td>29.416667</td>\n",
       "      <td>4425.000000</td>\n",
       "      <td>Stan</td>\n",
       "      <td>Wawrinka</td>\n",
       "      <td>SUI</td>\n",
       "      <td>183.0</td>\n",
       "      <td>Switzerland</td>\n",
       "      <td>NaN</td>\n",
       "    </tr>\n",
       "  </tbody>\n",
       "</table>\n",
       "</div>"
      ],
      "text/plain": [
       "   rank_number  player_age  ranking_points first_name last_name flag_code  \\\n",
       "0     2.708333   27.416667    11362.916667      Novak  Djokovic       SRB   \n",
       "1     3.958333   28.416667     7296.875000     Rafael     Nadal       ESP   \n",
       "2     4.791667   27.416667     7084.166667       Andy    Murray       GBR   \n",
       "3     5.208333   33.416667     7047.916667      Roger   Federer       SUI   \n",
       "4     7.208333   29.416667     4425.000000       Stan  Wawrinka       SUI   \n",
       "\n",
       "   height_cm                                       country_name alpha-3  \n",
       "0      188.0                                             Serbia     SRB  \n",
       "1      185.0                                              Spain     ESP  \n",
       "2      191.0  United Kingdom of Great Britain and Northern I...     GBR  \n",
       "3      185.0                                        Switzerland     NaN  \n",
       "4      183.0                                        Switzerland     NaN  "
      ]
     },
     "execution_count": 330,
     "metadata": {},
     "output_type": "execute_result"
    }
   ],
   "source": [
    "tennis_data.head()"
   ]
  },
  {
   "cell_type": "code",
   "execution_count": 331,
   "metadata": {},
   "outputs": [],
   "source": [
    "tennis_data = tennis_data.drop(columns = [\"alpha-3\"])"
   ]
  },
  {
   "cell_type": "code",
   "execution_count": 749,
   "metadata": {},
   "outputs": [],
   "source": [
    "tennis_data.loc[tennis_data[\"country_name\"] == \"United Kingdom of Great Britain and Northern Ireland\", \"country_name\"] = \"United Kingdom\""
   ]
  },
  {
   "cell_type": "code",
   "execution_count": 333,
   "metadata": {},
   "outputs": [],
   "source": [
    "tennis_data.loc[tennis_data[\"country_name\"] == \"Czechia\", \"country_name\"] = \"Czech Republic\""
   ]
  },
  {
   "cell_type": "code",
   "execution_count": 334,
   "metadata": {},
   "outputs": [],
   "source": [
    "tennis_data.loc[tennis_data[\"country_name\"] == \"Russian Federation\", \"country_name\"] = \"Russia\""
   ]
  },
  {
   "cell_type": "code",
   "execution_count": 335,
   "metadata": {},
   "outputs": [],
   "source": [
    "tennis_data.loc[tennis_data[\"country_name\"] == \"United States of America\", \"country_name\"] = \"United States\""
   ]
  },
  {
   "cell_type": "code",
   "execution_count": 336,
   "metadata": {},
   "outputs": [],
   "source": [
    "tennis_data.loc[tennis_data[\"country_name\"] == \"Korea, Republic of\", \"country_name\"] = \"South Korea\""
   ]
  },
  {
   "cell_type": "code",
   "execution_count": 337,
   "metadata": {},
   "outputs": [],
   "source": [
    "tennis_data.loc[tennis_data[\"country_name\"] == \"Moldova, Republic of\", \"country_name\"] = \"Moldova\""
   ]
  },
  {
   "cell_type": "code",
   "execution_count": 338,
   "metadata": {},
   "outputs": [],
   "source": [
    "tennis_data.loc[tennis_data[\"country_name\"] == \"Nederland\", \"country_name\"] = \"Netherlands\""
   ]
  },
  {
   "cell_type": "code",
   "execution_count": 339,
   "metadata": {
    "collapsed": true,
    "jupyter": {
     "outputs_hidden": true
    }
   },
   "outputs": [
    {
     "data": {
      "text/html": [
       "<div>\n",
       "<style scoped>\n",
       "    .dataframe tbody tr th:only-of-type {\n",
       "        vertical-align: middle;\n",
       "    }\n",
       "\n",
       "    .dataframe tbody tr th {\n",
       "        vertical-align: top;\n",
       "    }\n",
       "\n",
       "    .dataframe thead th {\n",
       "        text-align: right;\n",
       "    }\n",
       "</style>\n",
       "<table border=\"1\" class=\"dataframe\">\n",
       "  <thead>\n",
       "    <tr style=\"text-align: right;\">\n",
       "      <th></th>\n",
       "      <th>rank_number</th>\n",
       "      <th>player_age</th>\n",
       "      <th>ranking_points</th>\n",
       "      <th>first_name</th>\n",
       "      <th>last_name</th>\n",
       "      <th>flag_code</th>\n",
       "      <th>height_cm</th>\n",
       "      <th>country_name</th>\n",
       "    </tr>\n",
       "  </thead>\n",
       "  <tbody>\n",
       "    <tr>\n",
       "      <th>0</th>\n",
       "      <td>2.708333</td>\n",
       "      <td>27.416667</td>\n",
       "      <td>11362.916667</td>\n",
       "      <td>Novak</td>\n",
       "      <td>Djokovic</td>\n",
       "      <td>SRB</td>\n",
       "      <td>188.0</td>\n",
       "      <td>Serbia</td>\n",
       "    </tr>\n",
       "    <tr>\n",
       "      <th>1</th>\n",
       "      <td>3.958333</td>\n",
       "      <td>28.416667</td>\n",
       "      <td>7296.875000</td>\n",
       "      <td>Rafael</td>\n",
       "      <td>Nadal</td>\n",
       "      <td>ESP</td>\n",
       "      <td>185.0</td>\n",
       "      <td>Spain</td>\n",
       "    </tr>\n",
       "    <tr>\n",
       "      <th>2</th>\n",
       "      <td>4.791667</td>\n",
       "      <td>27.416667</td>\n",
       "      <td>7084.166667</td>\n",
       "      <td>Andy</td>\n",
       "      <td>Murray</td>\n",
       "      <td>GBR</td>\n",
       "      <td>191.0</td>\n",
       "      <td>United Kingdom</td>\n",
       "    </tr>\n",
       "    <tr>\n",
       "      <th>3</th>\n",
       "      <td>5.208333</td>\n",
       "      <td>33.416667</td>\n",
       "      <td>7047.916667</td>\n",
       "      <td>Roger</td>\n",
       "      <td>Federer</td>\n",
       "      <td>SUI</td>\n",
       "      <td>185.0</td>\n",
       "      <td>Switzerland</td>\n",
       "    </tr>\n",
       "    <tr>\n",
       "      <th>4</th>\n",
       "      <td>7.208333</td>\n",
       "      <td>29.416667</td>\n",
       "      <td>4425.000000</td>\n",
       "      <td>Stan</td>\n",
       "      <td>Wawrinka</td>\n",
       "      <td>SUI</td>\n",
       "      <td>183.0</td>\n",
       "      <td>Switzerland</td>\n",
       "    </tr>\n",
       "  </tbody>\n",
       "</table>\n",
       "</div>"
      ],
      "text/plain": [
       "   rank_number  player_age  ranking_points first_name last_name flag_code  \\\n",
       "0     2.708333   27.416667    11362.916667      Novak  Djokovic       SRB   \n",
       "1     3.958333   28.416667     7296.875000     Rafael     Nadal       ESP   \n",
       "2     4.791667   27.416667     7084.166667       Andy    Murray       GBR   \n",
       "3     5.208333   33.416667     7047.916667      Roger   Federer       SUI   \n",
       "4     7.208333   29.416667     4425.000000       Stan  Wawrinka       SUI   \n",
       "\n",
       "   height_cm    country_name  \n",
       "0      188.0          Serbia  \n",
       "1      185.0           Spain  \n",
       "2      191.0  United Kingdom  \n",
       "3      185.0     Switzerland  \n",
       "4      183.0     Switzerland  "
      ]
     },
     "execution_count": 339,
     "metadata": {},
     "output_type": "execute_result"
    }
   ],
   "source": [
    "tennis_data.head()"
   ]
  },
  {
   "cell_type": "code",
   "execution_count": 19,
   "metadata": {},
   "outputs": [],
   "source": [
    "#Average temperature dataset"
   ]
  },
  {
   "cell_type": "code",
   "execution_count": 560,
   "metadata": {},
   "outputs": [],
   "source": [
    "temp = pd.read_csv(\"data/table-1.csv\")"
   ]
  },
  {
   "cell_type": "code",
   "execution_count": 561,
   "metadata": {},
   "outputs": [],
   "source": [
    "temp = temp.rename(columns = {\"'Average yearly temperature'\": \"avg_temp\"})"
   ]
  },
  {
   "cell_type": "code",
   "execution_count": 562,
   "metadata": {
    "collapsed": true,
    "jupyter": {
     "outputs_hidden": true
    }
   },
   "outputs": [
    {
     "data": {
      "text/html": [
       "<div>\n",
       "<style scoped>\n",
       "    .dataframe tbody tr th:only-of-type {\n",
       "        vertical-align: middle;\n",
       "    }\n",
       "\n",
       "    .dataframe tbody tr th {\n",
       "        vertical-align: top;\n",
       "    }\n",
       "\n",
       "    .dataframe thead th {\n",
       "        text-align: right;\n",
       "    }\n",
       "</style>\n",
       "<table border=\"1\" class=\"dataframe\">\n",
       "  <thead>\n",
       "    <tr style=\"text-align: right;\">\n",
       "      <th></th>\n",
       "      <th>Country</th>\n",
       "      <th>avg_temp</th>\n",
       "    </tr>\n",
       "  </thead>\n",
       "  <tbody>\n",
       "    <tr>\n",
       "      <th>0</th>\n",
       "      <td>Burkina Faso</td>\n",
       "      <td>28.25</td>\n",
       "    </tr>\n",
       "    <tr>\n",
       "      <th>1</th>\n",
       "      <td>Mali</td>\n",
       "      <td>28.25</td>\n",
       "    </tr>\n",
       "    <tr>\n",
       "      <th>2</th>\n",
       "      <td>Kiribati</td>\n",
       "      <td>28.20</td>\n",
       "    </tr>\n",
       "    <tr>\n",
       "      <th>3</th>\n",
       "      <td>Djibouti</td>\n",
       "      <td>28.00</td>\n",
       "    </tr>\n",
       "    <tr>\n",
       "      <th>4</th>\n",
       "      <td>Tuvalu</td>\n",
       "      <td>28.00</td>\n",
       "    </tr>\n",
       "  </tbody>\n",
       "</table>\n",
       "</div>"
      ],
      "text/plain": [
       "        Country  avg_temp\n",
       "0  Burkina Faso     28.25\n",
       "1          Mali     28.25\n",
       "2      Kiribati     28.20\n",
       "3      Djibouti     28.00\n",
       "4        Tuvalu     28.00"
      ]
     },
     "execution_count": 562,
     "metadata": {},
     "output_type": "execute_result"
    }
   ],
   "source": [
    "temp.head()"
   ]
  },
  {
   "cell_type": "code",
   "execution_count": 20,
   "metadata": {},
   "outputs": [],
   "source": [
    "#Mergind players and temperature dataset"
   ]
  },
  {
   "cell_type": "code",
   "execution_count": 563,
   "metadata": {},
   "outputs": [],
   "source": [
    "tempXtennis = pd.merge(tennis_data, temp, how = \"left\", left_on = \"country_name\", right_on = \"Country\")"
   ]
  },
  {
   "cell_type": "code",
   "execution_count": 564,
   "metadata": {},
   "outputs": [],
   "source": [
    "tempXtennis = tempXtennis.drop(columns = [\"Country\"])"
   ]
  },
  {
   "cell_type": "code",
   "execution_count": 565,
   "metadata": {},
   "outputs": [],
   "source": [
    "tempXtennis.loc[tempXtennis[\"country_name\"] == \"Taiwan\", \"avg_temp\"] = \"22.35\""
   ]
  },
  {
   "cell_type": "code",
   "execution_count": 21,
   "metadata": {},
   "outputs": [],
   "source": [
    "#Countries' populations dataset "
   ]
  },
  {
   "cell_type": "code",
   "execution_count": 566,
   "metadata": {},
   "outputs": [],
   "source": [
    "population = pd.read_json(\"data/population.json\")\n",
    "population = population.loc[:, [\"Country\", \"Year_2016\", \"Country_Code\"]]"
   ]
  },
  {
   "cell_type": "code",
   "execution_count": 567,
   "metadata": {},
   "outputs": [],
   "source": [
    "population.loc[population[\"Country\"] == \"Russian Federation\", \"Country\"] = \"Russia\""
   ]
  },
  {
   "cell_type": "code",
   "execution_count": 568,
   "metadata": {},
   "outputs": [],
   "source": [
    "population.loc[population[\"Country\"] == \"Korea, Dem. People’s Rep.\", \"Country\"] = \"South Korea\""
   ]
  },
  {
   "cell_type": "code",
   "execution_count": 757,
   "metadata": {
    "collapsed": true,
    "jupyter": {
     "outputs_hidden": true
    }
   },
   "outputs": [
    {
     "data": {
      "text/html": [
       "<div>\n",
       "<style scoped>\n",
       "    .dataframe tbody tr th:only-of-type {\n",
       "        vertical-align: middle;\n",
       "    }\n",
       "\n",
       "    .dataframe tbody tr th {\n",
       "        vertical-align: top;\n",
       "    }\n",
       "\n",
       "    .dataframe thead th {\n",
       "        text-align: right;\n",
       "    }\n",
       "</style>\n",
       "<table border=\"1\" class=\"dataframe\">\n",
       "  <thead>\n",
       "    <tr style=\"text-align: right;\">\n",
       "      <th></th>\n",
       "      <th>Country</th>\n",
       "      <th>Year_2016</th>\n",
       "      <th>Country_Code</th>\n",
       "    </tr>\n",
       "  </thead>\n",
       "  <tbody>\n",
       "    <tr>\n",
       "      <th>0</th>\n",
       "      <td>Aruba</td>\n",
       "      <td>104822.0</td>\n",
       "      <td>ABW</td>\n",
       "    </tr>\n",
       "    <tr>\n",
       "      <th>1</th>\n",
       "      <td>Afghanistan</td>\n",
       "      <td>34656032.0</td>\n",
       "      <td>AFG</td>\n",
       "    </tr>\n",
       "    <tr>\n",
       "      <th>2</th>\n",
       "      <td>Angola</td>\n",
       "      <td>28813463.0</td>\n",
       "      <td>AGO</td>\n",
       "    </tr>\n",
       "    <tr>\n",
       "      <th>3</th>\n",
       "      <td>Albania</td>\n",
       "      <td>2876101.0</td>\n",
       "      <td>ALB</td>\n",
       "    </tr>\n",
       "    <tr>\n",
       "      <th>4</th>\n",
       "      <td>Andorra</td>\n",
       "      <td>77281.0</td>\n",
       "      <td>AND</td>\n",
       "    </tr>\n",
       "  </tbody>\n",
       "</table>\n",
       "</div>"
      ],
      "text/plain": [
       "       Country   Year_2016 Country_Code\n",
       "0        Aruba    104822.0          ABW\n",
       "1  Afghanistan  34656032.0          AFG\n",
       "2       Angola  28813463.0          AGO\n",
       "3      Albania   2876101.0          ALB\n",
       "4      Andorra     77281.0          AND"
      ]
     },
     "execution_count": 757,
     "metadata": {},
     "output_type": "execute_result"
    }
   ],
   "source": [
    "population.head()"
   ]
  },
  {
   "cell_type": "code",
   "execution_count": 22,
   "metadata": {},
   "outputs": [],
   "source": [
    "#Merging players and population datasets"
   ]
  },
  {
   "cell_type": "code",
   "execution_count": 569,
   "metadata": {},
   "outputs": [],
   "source": [
    "popXten = pd.merge(tempXtennis, population, how = \"left\", left_on = \"country_name\", right_on = \"Country\")"
   ]
  },
  {
   "cell_type": "code",
   "execution_count": 23,
   "metadata": {},
   "outputs": [],
   "source": [
    "#Adding values that did not excist in population dataset manually"
   ]
  },
  {
   "cell_type": "code",
   "execution_count": 570,
   "metadata": {},
   "outputs": [],
   "source": [
    "popXten.loc[popXten[\"country_name\"] == \"Slovakia\", \"Year_2016\"] = 5433003.0"
   ]
  },
  {
   "cell_type": "code",
   "execution_count": 571,
   "metadata": {},
   "outputs": [],
   "source": [
    "popXten.loc[popXten[\"country_name\"] == \"Taiwan\", \"Year_2016\"] = 23540000.0"
   ]
  },
  {
   "cell_type": "code",
   "execution_count": 572,
   "metadata": {},
   "outputs": [],
   "source": [
    "popXten.loc[popXten[\"country_name\"] == \"Egypt\", \"Year_2016\"] = 94450000.0"
   ]
  },
  {
   "cell_type": "code",
   "execution_count": 573,
   "metadata": {},
   "outputs": [],
   "source": [
    "popXten = popXten.rename(columns = {\"Year_2016\": \"population\"}).drop(columns = [\"Country\"])"
   ]
  },
  {
   "cell_type": "code",
   "execution_count": 574,
   "metadata": {},
   "outputs": [],
   "source": [
    "popXten.dropna(subset = [\"first_name\"], inplace=True)"
   ]
  },
  {
   "cell_type": "code",
   "execution_count": 575,
   "metadata": {
    "collapsed": true,
    "jupyter": {
     "outputs_hidden": true
    }
   },
   "outputs": [
    {
     "data": {
      "text/html": [
       "<div>\n",
       "<style scoped>\n",
       "    .dataframe tbody tr th:only-of-type {\n",
       "        vertical-align: middle;\n",
       "    }\n",
       "\n",
       "    .dataframe tbody tr th {\n",
       "        vertical-align: top;\n",
       "    }\n",
       "\n",
       "    .dataframe thead th {\n",
       "        text-align: right;\n",
       "    }\n",
       "</style>\n",
       "<table border=\"1\" class=\"dataframe\">\n",
       "  <thead>\n",
       "    <tr style=\"text-align: right;\">\n",
       "      <th></th>\n",
       "      <th>rank_number</th>\n",
       "      <th>player_age</th>\n",
       "      <th>ranking_points</th>\n",
       "      <th>first_name</th>\n",
       "      <th>last_name</th>\n",
       "      <th>flag_code</th>\n",
       "      <th>height_cm</th>\n",
       "      <th>country_name</th>\n",
       "      <th>avg_temp</th>\n",
       "      <th>population</th>\n",
       "      <th>Country_Code</th>\n",
       "    </tr>\n",
       "  </thead>\n",
       "  <tbody>\n",
       "    <tr>\n",
       "      <th>0</th>\n",
       "      <td>2.708333</td>\n",
       "      <td>27.416667</td>\n",
       "      <td>11362.916667</td>\n",
       "      <td>Novak</td>\n",
       "      <td>Djokovic</td>\n",
       "      <td>SRB</td>\n",
       "      <td>188.0</td>\n",
       "      <td>Serbia</td>\n",
       "      <td>10.55</td>\n",
       "      <td>7057412.0</td>\n",
       "      <td>SRB</td>\n",
       "    </tr>\n",
       "    <tr>\n",
       "      <th>1</th>\n",
       "      <td>3.958333</td>\n",
       "      <td>28.416667</td>\n",
       "      <td>7296.875000</td>\n",
       "      <td>Rafael</td>\n",
       "      <td>Nadal</td>\n",
       "      <td>ESP</td>\n",
       "      <td>185.0</td>\n",
       "      <td>Spain</td>\n",
       "      <td>13.3</td>\n",
       "      <td>46443959.0</td>\n",
       "      <td>ESP</td>\n",
       "    </tr>\n",
       "    <tr>\n",
       "      <th>2</th>\n",
       "      <td>4.791667</td>\n",
       "      <td>27.416667</td>\n",
       "      <td>7084.166667</td>\n",
       "      <td>Andy</td>\n",
       "      <td>Murray</td>\n",
       "      <td>GBR</td>\n",
       "      <td>191.0</td>\n",
       "      <td>United Kingdom</td>\n",
       "      <td>8.45</td>\n",
       "      <td>65637239.0</td>\n",
       "      <td>GBR</td>\n",
       "    </tr>\n",
       "    <tr>\n",
       "      <th>3</th>\n",
       "      <td>5.208333</td>\n",
       "      <td>33.416667</td>\n",
       "      <td>7047.916667</td>\n",
       "      <td>Roger</td>\n",
       "      <td>Federer</td>\n",
       "      <td>SUI</td>\n",
       "      <td>185.0</td>\n",
       "      <td>Switzerland</td>\n",
       "      <td>5.5</td>\n",
       "      <td>8372098.0</td>\n",
       "      <td>CHE</td>\n",
       "    </tr>\n",
       "    <tr>\n",
       "      <th>4</th>\n",
       "      <td>7.208333</td>\n",
       "      <td>29.416667</td>\n",
       "      <td>4425.000000</td>\n",
       "      <td>Stan</td>\n",
       "      <td>Wawrinka</td>\n",
       "      <td>SUI</td>\n",
       "      <td>183.0</td>\n",
       "      <td>Switzerland</td>\n",
       "      <td>5.5</td>\n",
       "      <td>8372098.0</td>\n",
       "      <td>CHE</td>\n",
       "    </tr>\n",
       "  </tbody>\n",
       "</table>\n",
       "</div>"
      ],
      "text/plain": [
       "   rank_number  player_age  ranking_points first_name last_name flag_code  \\\n",
       "0     2.708333   27.416667    11362.916667      Novak  Djokovic       SRB   \n",
       "1     3.958333   28.416667     7296.875000     Rafael     Nadal       ESP   \n",
       "2     4.791667   27.416667     7084.166667       Andy    Murray       GBR   \n",
       "3     5.208333   33.416667     7047.916667      Roger   Federer       SUI   \n",
       "4     7.208333   29.416667     4425.000000       Stan  Wawrinka       SUI   \n",
       "\n",
       "   height_cm    country_name avg_temp  population Country_Code  \n",
       "0      188.0          Serbia    10.55   7057412.0          SRB  \n",
       "1      185.0           Spain     13.3  46443959.0          ESP  \n",
       "2      191.0  United Kingdom     8.45  65637239.0          GBR  \n",
       "3      185.0     Switzerland      5.5   8372098.0          CHE  \n",
       "4      183.0     Switzerland      5.5   8372098.0          CHE  "
      ]
     },
     "execution_count": 575,
     "metadata": {},
     "output_type": "execute_result"
    }
   ],
   "source": [
    "popXten.head()"
   ]
  },
  {
   "cell_type": "code",
   "execution_count": 24,
   "metadata": {},
   "outputs": [],
   "source": [
    "#GDP per capita dataset"
   ]
  },
  {
   "cell_type": "code",
   "execution_count": 576,
   "metadata": {},
   "outputs": [],
   "source": [
    "gdp = pd.read_excel(\"data/gdp_per_cap.xlsx\")"
   ]
  },
  {
   "cell_type": "code",
   "execution_count": 577,
   "metadata": {},
   "outputs": [],
   "source": [
    "gdp = gdp.loc[:, [\"Country Name\", \"2018 [YR2018]\", \"Country Code\"]]"
   ]
  },
  {
   "cell_type": "code",
   "execution_count": 578,
   "metadata": {},
   "outputs": [],
   "source": [
    "gdp.loc[gdp[\"Country Name\"] == \"Russian Federation\", \"Country Name\"] = \"Russia\""
   ]
  },
  {
   "cell_type": "code",
   "execution_count": 751,
   "metadata": {
    "collapsed": true,
    "jupyter": {
     "outputs_hidden": true
    }
   },
   "outputs": [
    {
     "data": {
      "text/html": [
       "<div>\n",
       "<style scoped>\n",
       "    .dataframe tbody tr th:only-of-type {\n",
       "        vertical-align: middle;\n",
       "    }\n",
       "\n",
       "    .dataframe tbody tr th {\n",
       "        vertical-align: top;\n",
       "    }\n",
       "\n",
       "    .dataframe thead th {\n",
       "        text-align: right;\n",
       "    }\n",
       "</style>\n",
       "<table border=\"1\" class=\"dataframe\">\n",
       "  <thead>\n",
       "    <tr style=\"text-align: right;\">\n",
       "      <th></th>\n",
       "      <th>Country Name</th>\n",
       "      <th>2018 [YR2018]</th>\n",
       "      <th>Country Code</th>\n",
       "    </tr>\n",
       "  </thead>\n",
       "  <tbody>\n",
       "    <tr>\n",
       "      <th>0</th>\n",
       "      <td>Afghanistan</td>\n",
       "      <td>520.897</td>\n",
       "      <td>AFG</td>\n",
       "    </tr>\n",
       "    <tr>\n",
       "      <th>1</th>\n",
       "      <td>Albania</td>\n",
       "      <td>5268.85</td>\n",
       "      <td>ALB</td>\n",
       "    </tr>\n",
       "    <tr>\n",
       "      <th>2</th>\n",
       "      <td>Algeria</td>\n",
       "      <td>4114.72</td>\n",
       "      <td>DZA</td>\n",
       "    </tr>\n",
       "    <tr>\n",
       "      <th>3</th>\n",
       "      <td>American Samoa</td>\n",
       "      <td>11466.7</td>\n",
       "      <td>ASM</td>\n",
       "    </tr>\n",
       "    <tr>\n",
       "      <th>4</th>\n",
       "      <td>Andorra</td>\n",
       "      <td>42029.8</td>\n",
       "      <td>AND</td>\n",
       "    </tr>\n",
       "  </tbody>\n",
       "</table>\n",
       "</div>"
      ],
      "text/plain": [
       "     Country Name 2018 [YR2018] Country Code\n",
       "0     Afghanistan       520.897          AFG\n",
       "1         Albania       5268.85          ALB\n",
       "2         Algeria       4114.72          DZA\n",
       "3  American Samoa       11466.7          ASM\n",
       "4         Andorra       42029.8          AND"
      ]
     },
     "execution_count": 751,
     "metadata": {},
     "output_type": "execute_result"
    }
   ],
   "source": [
    "gdp.head()"
   ]
  },
  {
   "cell_type": "code",
   "execution_count": 25,
   "metadata": {},
   "outputs": [],
   "source": [
    "#Merging players and gdp per capita datasets"
   ]
  },
  {
   "cell_type": "code",
   "execution_count": 579,
   "metadata": {},
   "outputs": [],
   "source": [
    "final = pd.merge(popXten, gdp, how = \"left\", left_on = \"country_name\", right_on = \"Country Name\")"
   ]
  },
  {
   "cell_type": "code",
   "execution_count": 580,
   "metadata": {},
   "outputs": [],
   "source": [
    "final.loc[final[\"country_name\"] == \"Taiwan\", \"2018 [YR2018]\"] = 24390.0"
   ]
  },
  {
   "cell_type": "code",
   "execution_count": 581,
   "metadata": {},
   "outputs": [],
   "source": [
    "final.loc[final[\"country_name\"] == \"Slovakia\", \"2018 [YR2018]\"] = 16560.0"
   ]
  },
  {
   "cell_type": "code",
   "execution_count": 582,
   "metadata": {},
   "outputs": [],
   "source": [
    "final.loc[final[\"country_name\"] == \"South Korea\", \"2018 [YR2018]\"] = 27608.25"
   ]
  },
  {
   "cell_type": "code",
   "execution_count": 583,
   "metadata": {},
   "outputs": [],
   "source": [
    "final.loc[final[\"country_name\"] == \"Egypt\", \"2018 [YR2018]\"] = 3525.02"
   ]
  },
  {
   "cell_type": "code",
   "execution_count": 584,
   "metadata": {},
   "outputs": [],
   "source": [
    "final = final.drop(columns = [\"flag_code\", \"Country Name\", \"Country Code\"])"
   ]
  },
  {
   "cell_type": "code",
   "execution_count": 585,
   "metadata": {},
   "outputs": [],
   "source": [
    "final = final.rename(columns = {\"Country_Code\": \"country_code\", \"2018 [YR2018]\": \"gdp_per_capita\"})"
   ]
  },
  {
   "cell_type": "code",
   "execution_count": 26,
   "metadata": {},
   "outputs": [],
   "source": [
    "#Creating a function that adds adjusted ranking column to the final dataframe"
   ]
  },
  {
   "cell_type": "code",
   "execution_count": 644,
   "metadata": {},
   "outputs": [],
   "source": [
    "def adjusted_rankings(rank):\n",
    "    if rank <= 5:\n",
    "        return 5\n",
    "    if rank <= 15:\n",
    "        return 15\n",
    "    if rank <= 25:\n",
    "        return 25\n",
    "    if rank <= 35:\n",
    "        return 35\n",
    "    if rank <= 45:\n",
    "        return 45\n",
    "    if rank <= 55:\n",
    "        return 55\n",
    "    if rank <= 75:\n",
    "        return 75\n",
    "    if rank <= 95:\n",
    "        return 95\n",
    "    if rank <= 105:\n",
    "        return 105\n",
    "    if rank <= 125:\n",
    "        return 125\n",
    "    if rank <= 145:\n",
    "        return 145\n",
    "    if rank <= 165:\n",
    "        return 165\n",
    "    if rank <= 185:\n",
    "        return 185\n",
    "    else:\n",
    "        return 200"
   ]
  },
  {
   "cell_type": "code",
   "execution_count": 645,
   "metadata": {},
   "outputs": [],
   "source": [
    "final[\"adjusted_rank\"] = final[\"rank_number\"].apply(adjusted_rankings)"
   ]
  },
  {
   "cell_type": "code",
   "execution_count": 667,
   "metadata": {
    "collapsed": true,
    "jupyter": {
     "outputs_hidden": true
    }
   },
   "outputs": [
    {
     "data": {
      "text/html": [
       "<div>\n",
       "<style scoped>\n",
       "    .dataframe tbody tr th:only-of-type {\n",
       "        vertical-align: middle;\n",
       "    }\n",
       "\n",
       "    .dataframe tbody tr th {\n",
       "        vertical-align: top;\n",
       "    }\n",
       "\n",
       "    .dataframe thead th {\n",
       "        text-align: right;\n",
       "    }\n",
       "</style>\n",
       "<table border=\"1\" class=\"dataframe\">\n",
       "  <thead>\n",
       "    <tr style=\"text-align: right;\">\n",
       "      <th></th>\n",
       "      <th>rank_number</th>\n",
       "      <th>player_age</th>\n",
       "      <th>ranking_points</th>\n",
       "      <th>first_name</th>\n",
       "      <th>last_name</th>\n",
       "      <th>height_cm</th>\n",
       "      <th>country_name</th>\n",
       "      <th>avg_temp</th>\n",
       "      <th>population</th>\n",
       "      <th>country_code</th>\n",
       "      <th>gdp_per_capita</th>\n",
       "      <th>adjusted_rank</th>\n",
       "    </tr>\n",
       "  </thead>\n",
       "  <tbody>\n",
       "    <tr>\n",
       "      <th>0</th>\n",
       "      <td>2.708333</td>\n",
       "      <td>27.416667</td>\n",
       "      <td>11362.916667</td>\n",
       "      <td>Novak</td>\n",
       "      <td>Djokovic</td>\n",
       "      <td>188.0</td>\n",
       "      <td>Serbia</td>\n",
       "      <td>10.55</td>\n",
       "      <td>7057412.0</td>\n",
       "      <td>SRB</td>\n",
       "      <td>7246.73</td>\n",
       "      <td>5</td>\n",
       "    </tr>\n",
       "    <tr>\n",
       "      <th>1</th>\n",
       "      <td>3.958333</td>\n",
       "      <td>28.416667</td>\n",
       "      <td>7296.875000</td>\n",
       "      <td>Rafael</td>\n",
       "      <td>Nadal</td>\n",
       "      <td>185.0</td>\n",
       "      <td>Spain</td>\n",
       "      <td>13.3</td>\n",
       "      <td>46443959.0</td>\n",
       "      <td>ESP</td>\n",
       "      <td>30370.9</td>\n",
       "      <td>5</td>\n",
       "    </tr>\n",
       "    <tr>\n",
       "      <th>2</th>\n",
       "      <td>4.791667</td>\n",
       "      <td>27.416667</td>\n",
       "      <td>7084.166667</td>\n",
       "      <td>Andy</td>\n",
       "      <td>Murray</td>\n",
       "      <td>191.0</td>\n",
       "      <td>United Kingdom</td>\n",
       "      <td>8.45</td>\n",
       "      <td>65637239.0</td>\n",
       "      <td>GBR</td>\n",
       "      <td>42943.9</td>\n",
       "      <td>5</td>\n",
       "    </tr>\n",
       "    <tr>\n",
       "      <th>3</th>\n",
       "      <td>5.208333</td>\n",
       "      <td>33.416667</td>\n",
       "      <td>7047.916667</td>\n",
       "      <td>Roger</td>\n",
       "      <td>Federer</td>\n",
       "      <td>185.0</td>\n",
       "      <td>Switzerland</td>\n",
       "      <td>5.5</td>\n",
       "      <td>8372098.0</td>\n",
       "      <td>CHE</td>\n",
       "      <td>82796.5</td>\n",
       "      <td>15</td>\n",
       "    </tr>\n",
       "    <tr>\n",
       "      <th>4</th>\n",
       "      <td>7.208333</td>\n",
       "      <td>29.416667</td>\n",
       "      <td>4425.000000</td>\n",
       "      <td>Stan</td>\n",
       "      <td>Wawrinka</td>\n",
       "      <td>183.0</td>\n",
       "      <td>Switzerland</td>\n",
       "      <td>5.5</td>\n",
       "      <td>8372098.0</td>\n",
       "      <td>CHE</td>\n",
       "      <td>82796.5</td>\n",
       "      <td>15</td>\n",
       "    </tr>\n",
       "  </tbody>\n",
       "</table>\n",
       "</div>"
      ],
      "text/plain": [
       "   rank_number  player_age  ranking_points first_name last_name  height_cm  \\\n",
       "0     2.708333   27.416667    11362.916667      Novak  Djokovic      188.0   \n",
       "1     3.958333   28.416667     7296.875000     Rafael     Nadal      185.0   \n",
       "2     4.791667   27.416667     7084.166667       Andy    Murray      191.0   \n",
       "3     5.208333   33.416667     7047.916667      Roger   Federer      185.0   \n",
       "4     7.208333   29.416667     4425.000000       Stan  Wawrinka      183.0   \n",
       "\n",
       "     country_name avg_temp  population country_code gdp_per_capita  \\\n",
       "0          Serbia    10.55   7057412.0          SRB        7246.73   \n",
       "1           Spain     13.3  46443959.0          ESP        30370.9   \n",
       "2  United Kingdom     8.45  65637239.0          GBR        42943.9   \n",
       "3     Switzerland      5.5   8372098.0          CHE        82796.5   \n",
       "4     Switzerland      5.5   8372098.0          CHE        82796.5   \n",
       "\n",
       "   adjusted_rank  \n",
       "0              5  \n",
       "1              5  \n",
       "2              5  \n",
       "3             15  \n",
       "4             15  "
      ]
     },
     "execution_count": 667,
     "metadata": {},
     "output_type": "execute_result"
    }
   ],
   "source": [
    "final.head()"
   ]
  },
  {
   "cell_type": "code",
   "execution_count": 419,
   "metadata": {},
   "outputs": [],
   "source": [
    "## final is the complete dataframe where I can get all the information needed for my analizes. \n",
    "#\n",
    "#\n",
    "#"
   ]
  },
  {
   "cell_type": "code",
   "execution_count": 27,
   "metadata": {},
   "outputs": [],
   "source": [
    "#Creating a dataframe from which I can easily get data to make all the graphs"
   ]
  },
  {
   "cell_type": "code",
   "execution_count": 420,
   "metadata": {},
   "outputs": [],
   "source": [
    "in_top200_by_country = final[\"country_name\"].value_counts()"
   ]
  },
  {
   "cell_type": "code",
   "execution_count": 421,
   "metadata": {},
   "outputs": [],
   "source": [
    "num_in_200 = in_top200_by_country.to_dict()"
   ]
  },
  {
   "cell_type": "code",
   "execution_count": 422,
   "metadata": {},
   "outputs": [],
   "source": [
    "count_data = {'country': list(num_in_200.keys()), 'count_in_top_200': list(num_in_200.values())}"
   ]
  },
  {
   "cell_type": "code",
   "execution_count": 423,
   "metadata": {},
   "outputs": [],
   "source": [
    "num_200_df = pd.DataFrame.from_dict(count_data)"
   ]
  },
  {
   "cell_type": "code",
   "execution_count": 424,
   "metadata": {
    "collapsed": true,
    "jupyter": {
     "outputs_hidden": true
    }
   },
   "outputs": [
    {
     "data": {
      "text/html": [
       "<div>\n",
       "<style scoped>\n",
       "    .dataframe tbody tr th:only-of-type {\n",
       "        vertical-align: middle;\n",
       "    }\n",
       "\n",
       "    .dataframe tbody tr th {\n",
       "        vertical-align: top;\n",
       "    }\n",
       "\n",
       "    .dataframe thead th {\n",
       "        text-align: right;\n",
       "    }\n",
       "</style>\n",
       "<table border=\"1\" class=\"dataframe\">\n",
       "  <thead>\n",
       "    <tr style=\"text-align: right;\">\n",
       "      <th></th>\n",
       "      <th>country</th>\n",
       "      <th>count_in_top_200</th>\n",
       "    </tr>\n",
       "  </thead>\n",
       "  <tbody>\n",
       "    <tr>\n",
       "      <th>0</th>\n",
       "      <td>United States</td>\n",
       "      <td>37</td>\n",
       "    </tr>\n",
       "    <tr>\n",
       "      <th>1</th>\n",
       "      <td>France</td>\n",
       "      <td>32</td>\n",
       "    </tr>\n",
       "    <tr>\n",
       "      <th>2</th>\n",
       "      <td>Spain</td>\n",
       "      <td>26</td>\n",
       "    </tr>\n",
       "    <tr>\n",
       "      <th>3</th>\n",
       "      <td>Germany</td>\n",
       "      <td>25</td>\n",
       "    </tr>\n",
       "    <tr>\n",
       "      <th>4</th>\n",
       "      <td>Argentina</td>\n",
       "      <td>21</td>\n",
       "    </tr>\n",
       "  </tbody>\n",
       "</table>\n",
       "</div>"
      ],
      "text/plain": [
       "         country  count_in_top_200\n",
       "0  United States                37\n",
       "1         France                32\n",
       "2          Spain                26\n",
       "3        Germany                25\n",
       "4      Argentina                21"
      ]
     },
     "execution_count": 424,
     "metadata": {},
     "output_type": "execute_result"
    }
   ],
   "source": [
    "num_200_df.head()"
   ]
  },
  {
   "cell_type": "code",
   "execution_count": 425,
   "metadata": {},
   "outputs": [],
   "source": [
    "graphs_df_0 = pd.merge(num_200_df, gdp, how = \"left\", left_on = \"country\", right_on = \"Country Name\")"
   ]
  },
  {
   "cell_type": "code",
   "execution_count": 426,
   "metadata": {},
   "outputs": [],
   "source": [
    "graphs_df_1 = pd.merge(graphs_df_0, population, how = \"left\", left_on = \"country\", right_on = \"Country\")"
   ]
  },
  {
   "cell_type": "code",
   "execution_count": 427,
   "metadata": {},
   "outputs": [],
   "source": [
    "graphs_final = pd.merge(graphs_df_1, temp, how = \"left\", left_on = \"country\", right_on = \"Country\")"
   ]
  },
  {
   "cell_type": "code",
   "execution_count": 428,
   "metadata": {},
   "outputs": [],
   "source": [
    "graphs_final = graphs_final.loc[:, [\"country\", \"count_in_top_200\", \"avg_temp\", \"2018 [YR2018]\", \"Year_2016\"]]"
   ]
  },
  {
   "cell_type": "code",
   "execution_count": 429,
   "metadata": {},
   "outputs": [],
   "source": [
    "graphs_final = graphs_final.rename(columns = {\"2018 [YR2018]\": \"gdp_per_cap\", \"Year_2016\": \"population\"})"
   ]
  },
  {
   "cell_type": "code",
   "execution_count": 28,
   "metadata": {},
   "outputs": [],
   "source": [
    "#Adding missing values to the graphs dataframe manually"
   ]
  },
  {
   "cell_type": "code",
   "execution_count": 460,
   "metadata": {},
   "outputs": [],
   "source": [
    "graphs_final.loc[graphs_final[\"country\"] == \"Egypt\", \"gdp_per_cap\"] = 3525.02\n",
    "graphs_final.loc[graphs_final[\"country\"] == \"Slovakia\", \"gdp_per_cap\"] = 16560.0\n",
    "graphs_final.loc[graphs_final[\"country\"] == \"Taiwan\", \"gdp_per_cap\"] = 24390.0\n",
    "\n",
    "graphs_final.loc[graphs_final[\"country\"] == \"Slovakia\", \"population\"] = 5433003.0\n",
    "graphs_final.loc[graphs_final[\"country\"] == \"Taiwan\", \"population\"] = 23540000.0\n",
    "graphs_final.loc[graphs_final[\"country\"] == \"Egypt\", \"population\"] = 94450000.0\n",
    "\n",
    "graphs_final.loc[graphs_final[\"country\"] == \"Taiwan\", \"avg_temp\"] = float(22.35)\n",
    "graphs_final.loc[graphs_final[\"country\"] == \"South Korea\", \"gdp_per_cap\"] = 27608.25"
   ]
  },
  {
   "cell_type": "code",
   "execution_count": 491,
   "metadata": {},
   "outputs": [],
   "source": [
    "def avg_temp(temp):\n",
    "    if type(temp) == \"str\":\n",
    "        return float(temp)\n",
    "    else:\n",
    "        return temp"
   ]
  },
  {
   "cell_type": "code",
   "execution_count": 492,
   "metadata": {},
   "outputs": [],
   "source": [
    "graphs_final[\"avg_temp\"] = graphs_final[\"avg_temp\"].apply(avg_temp)"
   ]
  },
  {
   "cell_type": "code",
   "execution_count": 493,
   "metadata": {},
   "outputs": [],
   "source": [
    "graphs_final[\"top_200_per_1m\"] = (graphs_final[\"count_in_top_200\"]*1000000/graphs_final[\"population\"])"
   ]
  },
  {
   "cell_type": "code",
   "execution_count": 494,
   "metadata": {
    "collapsed": true,
    "jupyter": {
     "outputs_hidden": true
    }
   },
   "outputs": [
    {
     "data": {
      "text/html": [
       "<div>\n",
       "<style scoped>\n",
       "    .dataframe tbody tr th:only-of-type {\n",
       "        vertical-align: middle;\n",
       "    }\n",
       "\n",
       "    .dataframe tbody tr th {\n",
       "        vertical-align: top;\n",
       "    }\n",
       "\n",
       "    .dataframe thead th {\n",
       "        text-align: right;\n",
       "    }\n",
       "</style>\n",
       "<table border=\"1\" class=\"dataframe\">\n",
       "  <thead>\n",
       "    <tr style=\"text-align: right;\">\n",
       "      <th></th>\n",
       "      <th>country</th>\n",
       "      <th>count_in_top_200</th>\n",
       "      <th>avg_temp</th>\n",
       "      <th>gdp_per_cap</th>\n",
       "      <th>population</th>\n",
       "      <th>top_200_per_1m</th>\n",
       "    </tr>\n",
       "  </thead>\n",
       "  <tbody>\n",
       "    <tr>\n",
       "      <th>0</th>\n",
       "      <td>United States</td>\n",
       "      <td>37</td>\n",
       "      <td>8.55</td>\n",
       "      <td>62794.6</td>\n",
       "      <td>323127513.0</td>\n",
       "      <td>0.114506</td>\n",
       "    </tr>\n",
       "    <tr>\n",
       "      <th>1</th>\n",
       "      <td>France</td>\n",
       "      <td>32</td>\n",
       "      <td>10.70</td>\n",
       "      <td>41463.6</td>\n",
       "      <td>66896109.0</td>\n",
       "      <td>0.478354</td>\n",
       "    </tr>\n",
       "    <tr>\n",
       "      <th>2</th>\n",
       "      <td>Spain</td>\n",
       "      <td>26</td>\n",
       "      <td>13.30</td>\n",
       "      <td>30370.9</td>\n",
       "      <td>46443959.0</td>\n",
       "      <td>0.559814</td>\n",
       "    </tr>\n",
       "    <tr>\n",
       "      <th>3</th>\n",
       "      <td>Germany</td>\n",
       "      <td>25</td>\n",
       "      <td>8.50</td>\n",
       "      <td>47603</td>\n",
       "      <td>82667685.0</td>\n",
       "      <td>0.302416</td>\n",
       "    </tr>\n",
       "    <tr>\n",
       "      <th>4</th>\n",
       "      <td>Argentina</td>\n",
       "      <td>21</td>\n",
       "      <td>14.80</td>\n",
       "      <td>11683.9</td>\n",
       "      <td>43847430.0</td>\n",
       "      <td>0.478933</td>\n",
       "    </tr>\n",
       "  </tbody>\n",
       "</table>\n",
       "</div>"
      ],
      "text/plain": [
       "         country  count_in_top_200  avg_temp gdp_per_cap   population  \\\n",
       "0  United States                37      8.55     62794.6  323127513.0   \n",
       "1         France                32     10.70     41463.6   66896109.0   \n",
       "2          Spain                26     13.30     30370.9   46443959.0   \n",
       "3        Germany                25      8.50       47603   82667685.0   \n",
       "4      Argentina                21     14.80     11683.9   43847430.0   \n",
       "\n",
       "   top_200_per_1m  \n",
       "0        0.114506  \n",
       "1        0.478354  \n",
       "2        0.559814  \n",
       "3        0.302416  \n",
       "4        0.478933  "
      ]
     },
     "execution_count": 494,
     "metadata": {},
     "output_type": "execute_result"
    }
   ],
   "source": [
    "graphs_final.head()"
   ]
  },
  {
   "cell_type": "code",
   "execution_count": 495,
   "metadata": {},
   "outputs": [],
   "source": [
    "#this is the df from where I can make graphs.\n",
    "#\n",
    "#\n",
    "#"
   ]
  },
  {
   "cell_type": "code",
   "execution_count": 748,
   "metadata": {},
   "outputs": [
    {
     "data": {
      "text/plain": [
       "Text(0.5, 1, 'Relationship Between the Average Temperature and Players in Top 200 Per Million People')"
      ]
     },
     "execution_count": 748,
     "metadata": {},
     "output_type": "execute_result"
    },
    {
     "data": {
      "image/png": "[encoded data removed]",
      "text/plain": [
       "<Figure size 360x360 with 1 Axes>"
      ]
     },
     "metadata": {
      "needs_background": "light"
     },
     "output_type": "display_data"
    }
   ],
   "source": [
    "plot = sns.relplot(x = \"avg_temp\", y = \"top_200_per_1m\", data = graphs_final, legend=False)\n",
    "plt.xlabel(\"Average Temperature\")\n",
    "plt.ylabel(\"Players in Top 200 Per Million People\")\n",
    "plt.title(\"Relationship Between the Average Temperature and Players in Top 200 Per Million People\")"
   ]
  },
  {
   "cell_type": "code",
   "execution_count": 747,
   "metadata": {},
   "outputs": [
    {
     "data": {
      "text/plain": [
       "Text(0.5, 1.0, 'Histogram of Average Temperatures')"
      ]
     },
     "execution_count": 747,
     "metadata": {},
     "output_type": "execute_result"
    },
    {
     "data": {
      "image/png": "[encoded data removed]",
      "text/plain": [
       "<Figure size 432x288 with 1 Axes>"
      ]
     },
     "metadata": {
      "needs_background": "light"
     },
     "output_type": "display_data"
    }
   ],
   "source": [
    "sns.distplot(graphs_final[\"avg_temp\"], kde=False)\n",
    "#plt.fig.set_size_inches(10,10)\n",
    "plt.xlabel(\"Average Temperature\")\n",
    "plt.ylabel(\"Count\")\n",
    "plt.title(\"Histogram of Average Temperatures\")"
   ]
  },
  {
   "cell_type": "code",
   "execution_count": 648,
   "metadata": {},
   "outputs": [],
   "source": [
    "gdp_rank_df = final.loc[:, [\"adjusted_rank\", \"gdp_per_capita\"]]"
   ]
  },
  {
   "cell_type": "code",
   "execution_count": 649,
   "metadata": {
    "collapsed": true,
    "jupyter": {
     "outputs_hidden": true
    }
   },
   "outputs": [
    {
     "data": {
      "text/html": [
       "<div>\n",
       "<style scoped>\n",
       "    .dataframe tbody tr th:only-of-type {\n",
       "        vertical-align: middle;\n",
       "    }\n",
       "\n",
       "    .dataframe tbody tr th {\n",
       "        vertical-align: top;\n",
       "    }\n",
       "\n",
       "    .dataframe thead th {\n",
       "        text-align: right;\n",
       "    }\n",
       "</style>\n",
       "<table border=\"1\" class=\"dataframe\">\n",
       "  <thead>\n",
       "    <tr style=\"text-align: right;\">\n",
       "      <th></th>\n",
       "      <th>adjusted_rank</th>\n",
       "      <th>gdp_per_capita</th>\n",
       "    </tr>\n",
       "  </thead>\n",
       "  <tbody>\n",
       "    <tr>\n",
       "      <th>0</th>\n",
       "      <td>5</td>\n",
       "      <td>7246.73</td>\n",
       "    </tr>\n",
       "    <tr>\n",
       "      <th>1</th>\n",
       "      <td>5</td>\n",
       "      <td>30370.9</td>\n",
       "    </tr>\n",
       "    <tr>\n",
       "      <th>2</th>\n",
       "      <td>5</td>\n",
       "      <td>42943.9</td>\n",
       "    </tr>\n",
       "    <tr>\n",
       "      <th>3</th>\n",
       "      <td>15</td>\n",
       "      <td>82796.5</td>\n",
       "    </tr>\n",
       "    <tr>\n",
       "      <th>4</th>\n",
       "      <td>15</td>\n",
       "      <td>82796.5</td>\n",
       "    </tr>\n",
       "  </tbody>\n",
       "</table>\n",
       "</div>"
      ],
      "text/plain": [
       "   adjusted_rank gdp_per_capita\n",
       "0              5        7246.73\n",
       "1              5        30370.9\n",
       "2              5        42943.9\n",
       "3             15        82796.5\n",
       "4             15        82796.5"
      ]
     },
     "execution_count": 649,
     "metadata": {},
     "output_type": "execute_result"
    }
   ],
   "source": [
    "gdp_rank_df.head()"
   ]
  },
  {
   "cell_type": "code",
   "execution_count": 650,
   "metadata": {},
   "outputs": [],
   "source": [
    "gdp_rank_df[\"adjusted_rank\"] = gdp_rank_df[\"adjusted_rank\"].astype(str)"
   ]
  },
  {
   "cell_type": "code",
   "execution_count": 651,
   "metadata": {},
   "outputs": [],
   "source": [
    "gdp_rank_df[\"gdp_per_capita\"] = gdp_rank_df[\"gdp_per_capita\"].astype(int)"
   ]
  },
  {
   "cell_type": "code",
   "execution_count": 652,
   "metadata": {},
   "outputs": [],
   "source": [
    "gdp_rank_df = gdp_rank_df.groupby(\"adjusted_rank\").mean()"
   ]
  },
  {
   "cell_type": "code",
   "execution_count": 653,
   "metadata": {},
   "outputs": [],
   "source": [
    "gdp_rank_df[\"rank\"] = gdp_rank_df.index"
   ]
  },
  {
   "cell_type": "code",
   "execution_count": 655,
   "metadata": {},
   "outputs": [],
   "source": [
    "gdp_rank_df[\"rank\"] = gdp_rank_df[\"rank\"].astype(int)"
   ]
  },
  {
   "cell_type": "code",
   "execution_count": 659,
   "metadata": {
    "collapsed": true,
    "jupyter": {
     "outputs_hidden": true
    }
   },
   "outputs": [
    {
     "data": {
      "text/html": [
       "<div>\n",
       "<style scoped>\n",
       "    .dataframe tbody tr th:only-of-type {\n",
       "        vertical-align: middle;\n",
       "    }\n",
       "\n",
       "    .dataframe tbody tr th {\n",
       "        vertical-align: top;\n",
       "    }\n",
       "\n",
       "    .dataframe thead th {\n",
       "        text-align: right;\n",
       "    }\n",
       "</style>\n",
       "<table border=\"1\" class=\"dataframe\">\n",
       "  <thead>\n",
       "    <tr style=\"text-align: right;\">\n",
       "      <th></th>\n",
       "      <th>gdp_per_capita</th>\n",
       "      <th>rank</th>\n",
       "    </tr>\n",
       "    <tr>\n",
       "      <th>adjusted_rank</th>\n",
       "      <th></th>\n",
       "      <th></th>\n",
       "    </tr>\n",
       "  </thead>\n",
       "  <tbody>\n",
       "    <tr>\n",
       "      <th>5</th>\n",
       "      <td>26853.000000</td>\n",
       "      <td>5</td>\n",
       "    </tr>\n",
       "    <tr>\n",
       "      <th>15</th>\n",
       "      <td>45116.625000</td>\n",
       "      <td>15</td>\n",
       "    </tr>\n",
       "    <tr>\n",
       "      <th>25</th>\n",
       "      <td>37843.000000</td>\n",
       "      <td>25</td>\n",
       "    </tr>\n",
       "    <tr>\n",
       "      <th>35</th>\n",
       "      <td>35228.375000</td>\n",
       "      <td>35</td>\n",
       "    </tr>\n",
       "    <tr>\n",
       "      <th>45</th>\n",
       "      <td>45980.909091</td>\n",
       "      <td>45</td>\n",
       "    </tr>\n",
       "  </tbody>\n",
       "</table>\n",
       "</div>"
      ],
      "text/plain": [
       "               gdp_per_capita  rank\n",
       "adjusted_rank                      \n",
       "5                26853.000000     5\n",
       "15               45116.625000    15\n",
       "25               37843.000000    25\n",
       "35               35228.375000    35\n",
       "45               45980.909091    45"
      ]
     },
     "execution_count": 659,
     "metadata": {},
     "output_type": "execute_result"
    }
   ],
   "source": [
    "gdp_rank_df = gdp_rank_df.sort_values(by = 'rank')\n",
    "gdp_rank_df.head()"
   ]
  },
  {
   "cell_type": "code",
   "execution_count": 735,
   "metadata": {},
   "outputs": [
    {
     "data": {
      "text/plain": [
       "Text(0.5, 1, 'Relationship Between Rankings and GDP Per Capita')"
      ]
     },
     "execution_count": 735,
     "metadata": {},
     "output_type": "execute_result"
    },
    {
     "data": {
      "image/png": "[encoded data removed]",
      "text/plain": [
       "<Figure size 504x504 with 1 Axes>"
      ]
     },
     "metadata": {
      "needs_background": "light"
     },
     "output_type": "display_data"
    }
   ],
   "source": [
    "sns.catplot(x = \"rank\", y = \"gdp_per_capita\", kind = \"bar\", data = gdp_rank_df, height = 7)\n",
    "#plot = sns.relplot(x = \"avg_w_length\", y = \"len_list\", data = reuters_articles, legend=False)\n",
    "plot.fig.set_size_inches(10,10)\n",
    "plt.xlabel(\"Rankings\")\n",
    "plt.ylabel(\"GDP Per Capita\")\n",
    "plt.title(\"Relationship Between Rankings and GDP Per Capita\")"
   ]
  },
  {
   "cell_type": "code",
   "execution_count": 681,
   "metadata": {},
   "outputs": [],
   "source": [
    "height_raw = final.loc[~final[\"height_cm\"].isnull()]"
   ]
  },
  {
   "cell_type": "code",
   "execution_count": 690,
   "metadata": {},
   "outputs": [],
   "source": [
    "height = height_raw.loc[:, [\"height_cm\", \"rank_number\", \"adjusted_rank\"]]"
   ]
  },
  {
   "cell_type": "code",
   "execution_count": 693,
   "metadata": {},
   "outputs": [],
   "source": [
    "height.loc[height[\"height_cm\"] == 0.0] = 183.0"
   ]
  },
  {
   "cell_type": "code",
   "execution_count": 741,
   "metadata": {},
   "outputs": [
    {
     "data": {
      "text/plain": [
       "Text(0.5, 1.0, 'Relationship Between Ranking And Player Height')"
      ]
     },
     "execution_count": 741,
     "metadata": {},
     "output_type": "execute_result"
    },
    {
     "data": {
      "image/png": "[encoded data removed]",
      "text/plain": [
       "<Figure size 720x576 with 1 Axes>"
      ]
     },
     "metadata": {
      "needs_background": "light"
     },
     "output_type": "display_data"
    }
   ],
   "source": [
    "fig, ax2=plt.subplots(figsize=(10,8))\n",
    "ax2.scatter(height[\"rank_number\"], height[\"height_cm\"], color=\"red\", marker=\"o\")\n",
    "ax2.set_xlabel(\"Rank\", fontsize=10)\n",
    "ax2.set_ylabel(\"Height In CM\", fontsize=10)\n",
    "ax2.axhline(height[\"height_cm\"].mean(), color=\"blue\")\n",
    "ax2.text(x= 160, y=183.5, s=\"Medium Height in CM\", color=\"blue\")\n",
    "ax2.set_title(\"Relationship Between Ranking And Player Height\")"
   ]
  },
  {
   "cell_type": "code",
   "execution_count": null,
   "metadata": {},
   "outputs": [],
   "source": []
  }
 ],
 "metadata": {
  "kernelspec": {
   "display_name": "Python 3",
   "language": "python",
   "name": "python3"
  },
  "language_info": {
   "codemirror_mode": {
    "name": "ipython",
    "version": 3
   },
   "file_extension": ".py",
   "mimetype": "text/x-python",
   "name": "python",
   "nbconvert_exporter": "python",
   "pygments_lexer": "ipython3",
   "version": "3.7.3"
  }
 },
 "nbformat": 4,
 "nbformat_minor": 4
}
